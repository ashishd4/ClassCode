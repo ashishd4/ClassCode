{
 "cells": [
  {
   "cell_type": "markdown",
   "id": "d4ffb212",
   "metadata": {},
   "source": [
    "# DP2: Code"
   ]
  },
  {
   "cell_type": "markdown",
   "id": "d33f4436",
   "metadata": {},
   "source": [
    "By Ashish Dhanalakota and Michal Marciniak"
   ]
  },
  {
   "cell_type": "markdown",
   "id": "13f5b0bb",
   "metadata": {},
   "source": [
    "This is the code we used to control and simulate our differential drive robot, or segbot, and to plot its motion."
   ]
  },
  {
   "cell_type": "markdown",
   "id": "f61ac2a5",
   "metadata": {},
   "source": [
    "The first step is to import all the packages we need. Numpy, sympy, and scipy help with creating our initial matrices and finding the K matrices and eigenvalues that we seek to use. Time helps with the simulation of our segbot. Matplotlib helps with plotting the motion of the segbot. ae353_segbot, ipywidgets, and IPython.display are all needed to run and display the PyBullet simulator we use."
   ]
  },
  {
   "cell_type": "code",
   "execution_count": 1,
   "id": "5993d6b1",
   "metadata": {},
   "outputs": [],
   "source": [
    "import time\n",
    "\n",
    "# These modules are part of other existing libraries\n",
    "import numpy as np\n",
    "from sympy import *\n",
    "from scipy import signal\n",
    "import matplotlib.pyplot as plt\n",
    "import ipywidgets as widgets\n",
    "from IPython.display import display\n",
    "import asyncio\n",
    "\n",
    "# This is to find our gain matrix\n",
    "from scipy import linalg\n",
    "\n",
    "# This is my own script (it is an interface to the pybullet simulator)\n",
    "import ae353_segbot"
   ]
  },
  {
   "cell_type": "markdown",
   "id": "cc8a0134",
   "metadata": {},
   "source": [
    "Here, we define all our given constants."
   ]
  },
  {
   "cell_type": "code",
   "execution_count": 4,
   "id": "1dccf364",
   "metadata": {},
   "outputs": [],
   "source": [
    "# Dimensions of chassis\n",
    "dx = 0.4\n",
    "dy = 0.6\n",
    "dz = 0.8\n",
    "\n",
    "# Distance between axle and COM of chassis\n",
    "h = 0.3\n",
    "\n",
    "# Half-distance between wheels\n",
    "a = 0.7 / 2\n",
    "\n",
    "# Mass of chassis\n",
    "mb = 12.\n",
    "\n",
    "# MOI of chassis\n",
    "Jbx = (mb / 12) * (dy**2 + dz**2)\n",
    "Jby = (mb / 12) * (dx**2 + dz**2)\n",
    "Jbz = (mb / 12) * (dx**2 + dy**2)\n",
    "\n",
    "# Radius of each wheel\n",
    "r = 0.325\n",
    "\n",
    "# Width of each wheel\n",
    "hw = 0.075\n",
    "\n",
    "# Mass of each wheel\n",
    "mw = 1.2\n",
    "\n",
    "# MOI of each wheel\n",
    "Jw = (mw / 2) * r**2\n",
    "Jwt = (mw / 12) * (3 * r**2 + hw**2)\n",
    "\n",
    "# Total mass\n",
    "m = mb + 2 * mw\n",
    "\n",
    "# Total MOI\n",
    "Jx = Jbx + 2 * Jwt\n",
    "Jy = Jby\n",
    "Jz = Jbz + 2 * Jwt\n",
    "\n",
    "# Station parameters\n",
    "station_velocity = -0.5 # <-- FIXME (change the velocity to change gravity)\n",
    "station_radius = 20.    # <-- radius in meters of inside surface of station\n",
    "\n",
    "# Acceleration of artifical gravity\n",
    "g = station_velocity**2 * station_radius"
   ]
  },
  {
   "cell_type": "markdown",
   "id": "according-boost",
   "metadata": {},
   "source": [
    "This converts all of our constants into rational numbers."
   ]
  },
  {
   "cell_type": "code",
   "execution_count": 5,
   "id": "7bb1d511",
   "metadata": {},
   "outputs": [],
   "source": [
    "# Dimensions\n",
    "h = nsimplify(h)\n",
    "a = nsimplify(a)\n",
    "r = nsimplify(r)\n",
    "\n",
    "# Masses\n",
    "mb = nsimplify(mb)\n",
    "mw = nsimplify(mw)\n",
    "m = nsimplify(m)\n",
    "\n",
    "# MOIs\n",
    "Jx = nsimplify(Jx)\n",
    "Jy = nsimplify(Jy)\n",
    "Jz = nsimplify(Jz)\n",
    "Jw = nsimplify(Jw)\n",
    "Jwt = nsimplify(Jwt)\n",
    "\n",
    "# Gravity\n",
    "g = nsimplify(g)"
   ]
  },
  {
   "cell_type": "markdown",
   "id": "16cb5bf1",
   "metadata": {},
   "source": [
    "# Calculations"
   ]
  },
  {
   "cell_type": "markdown",
   "id": "critical-trauma",
   "metadata": {},
   "source": [
    "Define all variable through sympy, and flag them as real to help simplify."
   ]
  },
  {
   "cell_type": "code",
   "execution_count": 6,
   "id": "8000104c",
   "metadata": {},
   "outputs": [],
   "source": [
    "(e_l, e_h, v, w, theta, thetadot, tau_R, \n",
    " tau_L) = symbols('e_l, e_h, v, w, theta, thetadot, tau_R, tau_L', real=True)"
   ]
  },
  {
   "cell_type": "markdown",
   "id": "foster-marketplace",
   "metadata": {},
   "source": [
    "Compute all the equations of motion except lateral and heading errors."
   ]
  },
  {
   "cell_type": "code",
   "execution_count": 7,
   "id": "b77fff63",
   "metadata": {},
   "outputs": [],
   "source": [
    "M = Matrix([[m + 2 * Jw / r**2, 0, mb * h * cos(theta)],\n",
    "            [0, (Jx + mb * h**2) * sin(theta)**2 + Jz * cos(theta)**2 + (2 * Jw * a**2 / r**2) + 2 * mw * a**2, 0],\n",
    "            [mb * h * cos(theta), 0, Jy * mb * h**2]])\n",
    "N = Matrix([[mb * h * (w**2 + thetadot**2) * sin(theta)],\n",
    "            [-2 * (Jx - Jz + m * h**2) * cos(theta) * sin(theta) * w * thetadot - mb * h * sin(theta) * v * w],\n",
    "            [(Jx - Jz + mb * h**2) * cos(theta) * sin(theta) * w**2 + mb * g * h * sin(theta)]])\n",
    "R = Matrix([[1 / r, 1 / r],\n",
    "            [-a / r, a / r],\n",
    "            [-1, -1]])\n",
    "\n",
    "f_prep = simplify(M.inv() * (N + R * Matrix([[tau_L], [tau_R]])))"
   ]
  },
  {
   "cell_type": "markdown",
   "id": "63588524",
   "metadata": {},
   "source": [
    "Compute full equations of motion, and decide our equilibrium points."
   ]
  },
  {
   "cell_type": "code",
   "execution_count": 8,
   "id": "d386fc6c",
   "metadata": {},
   "outputs": [
    {
     "data": {
      "text/latex": [
       "$\\displaystyle \\left[\\begin{matrix}v \\sin{\\left(e_{h} \\right)}\\\\w\\\\- \\frac{1200 \\tau_{L} + 1200 \\tau_{R} + 1404 \\left(\\dot{\\theta}^{2} + w^{2}\\right) \\sin{\\left(\\theta \\right)} + \\frac{65 \\cdot \\left(50 \\tau_{L} + 50 \\tau_{R} - 39 w^{2} \\sin{\\left(2 \\theta \\right)} - 900 \\sin{\\left(\\theta \\right)}\\right) \\cos{\\left(\\theta \\right)}}{2}}{5850 \\cos^{2}{\\left(\\theta \\right)} - 6084}\\\\\\frac{32 \\left(- 875 \\tau_{L} + 875 \\tau_{R} - 1443 \\dot{\\theta} w \\sin{\\left(2 \\theta \\right)} - 2925 v w \\sin{\\left(\\theta \\right)}\\right)}{13 \\cdot \\left(3120 \\sin^{2}{\\left(\\theta \\right)} + 2051\\right)}\\\\\\dot{\\theta}\\\\\\frac{5 \\cdot \\left(4225 \\tau_{L} + 4225 \\tau_{R} - \\frac{6591 w^{2} \\sin{\\left(2 \\theta \\right)}}{2} + 30 \\cdot \\left(100 \\tau_{L} + 100 \\tau_{R} + 117 \\left(\\dot{\\theta}^{2} + w^{2}\\right) \\sin{\\left(\\theta \\right)}\\right) \\cos{\\left(\\theta \\right)} - 76050 \\sin{\\left(\\theta \\right)}\\right)}{702 \\cdot \\left(25 \\cos^{2}{\\left(\\theta \\right)} - 26\\right)}\\end{matrix}\\right]$"
      ],
      "text/plain": [
       "Matrix([\n",
       "[                                                                                                                                                                           v*sin(e_h)],\n",
       "[                                                                                                                                                                                    w],\n",
       "[        -(1200*tau_L + 1200*tau_R + 1404*(thetadot**2 + w**2)*sin(theta) + 65*(50*tau_L + 50*tau_R - 39*w**2*sin(2*theta) - 900*sin(theta))*cos(theta)/2)/(5850*cos(theta)**2 - 6084)],\n",
       "[                                                                    32*(-875*tau_L + 875*tau_R - 1443*thetadot*w*sin(2*theta) - 2925*v*w*sin(theta))/(13*(3120*sin(theta)**2 + 2051))],\n",
       "[                                                                                                                                                                             thetadot],\n",
       "[5*(4225*tau_L + 4225*tau_R - 6591*w**2*sin(2*theta)/2 + 30*(100*tau_L + 100*tau_R + 117*(thetadot**2 + w**2)*sin(theta))*cos(theta) - 76050*sin(theta))/(702*(25*cos(theta)**2 - 26))]])"
      ]
     },
     "execution_count": 8,
     "metadata": {},
     "output_type": "execute_result"
    }
   ],
   "source": [
    "q = thetadot\n",
    "\n",
    "# Defining our f matrix to take the Jacobian of\n",
    "f = Matrix([[v * sin(e_h)], [w], [f_prep]])\n",
    "f_new = Matrix([f[0], f[1], f[2], f[3], q, f[4]])\n",
    "\n",
    "# Equilibrium points\n",
    "le = 0 # lateral equilibrium, ldot = v*sin(h)\n",
    "he = 0 # heading equilibrium, hdot = w\n",
    "ve = 2 # forward speed, vdot = complex eqn1\n",
    "we = 0 # turning rate, wdot = complex eqn2\n",
    "thetae = 0 # pitch angle, thetadot = q\n",
    "qe = 0 # NEEDS IMPLEMENTATION, qdot = complex eqn3\n",
    "tau_Re = 0 # torque applied to right wheel\n",
    "tau_Le = 0 # torque applied to left wheel\n",
    "\n",
    "f_new"
   ]
  },
  {
   "cell_type": "markdown",
   "id": "1ec6cafb",
   "metadata": {},
   "source": [
    "Here, we are creating A and B matrices for a state space model."
   ]
  },
  {
   "cell_type": "code",
   "execution_count": 9,
   "id": "14d6228c",
   "metadata": {},
   "outputs": [
    {
     "name": "stdout",
     "output_type": "stream",
     "text": [
      "[[   0.            2.            0.            0.            0.\n",
      "     0.        ]\n",
      " [   0.            0.            0.            1.            0.\n",
      "     0.        ]\n",
      " [   0.            0.            0.            0.         -125.\n",
      "    -0.        ]\n",
      " [   0.            0.            0.            0.            0.\n",
      "     0.        ]\n",
      " [   0.            0.            0.            0.            0.\n",
      "     1.        ]\n",
      " [   0.            0.            0.           -0.          541.66666667\n",
      "    -0.        ]]\n"
     ]
    }
   ],
   "source": [
    "A_jac = f_new.jacobian([e_l, e_h, v, w, theta, q])\n",
    "B_jac = f_new.jacobian([tau_R, tau_L])\n",
    "\n",
    "# Defining A and B matrices for our state space model\n",
    "A_num = lambdify([e_l, e_h, v, w, theta, q, tau_R, tau_L], A_jac)\n",
    "A = A_num(le, he, ve, we, thetae, qe, tau_Re, tau_Le).astype(float)\n",
    "\n",
    "B_num = lambdify([e_l, e_h, v, w, theta, q, tau_R, tau_L], B_jac)\n",
    "B = B_num(le, he, ve, we, thetae, qe, tau_Re, tau_Le).astype(float)\n",
    "\n",
    "print(A)"
   ]
  },
  {
   "cell_type": "markdown",
   "id": "d0c2a946",
   "metadata": {},
   "source": [
    "We are using LQR method to find optimal eigenvalues and a gain matrix with the given weights. Here, you can tell that pitch angle is weighted 100 times more than the other variables. This is because after extensive testing and simulations, we have determined that pitch angle is the most important factor in determining the stability of our segbot."
   ]
  },
  {
   "cell_type": "code",
   "execution_count": 10,
   "id": "82608c33",
   "metadata": {},
   "outputs": [
    {
     "data": {
      "text/plain": [
       "array([ -1.62405734+0.j        ,  -0.89803493+1.01116003j,\n",
       "        -0.89803493-1.01116003j, -80.89852943+0.j        ,\n",
       "       -11.24802614+0.j        ,  -0.16604362+0.j        ])"
      ]
     },
     "execution_count": 10,
     "metadata": {},
     "output_type": "execute_result"
    }
   ],
   "source": [
    "Q = np.diag([1, 1, 1, 1, 100, 1])\n",
    "\n",
    "R = np.diag([1, 1])\n",
    "\n",
    "#Using LQR method to find eigenvalues and a gain matrix\n",
    "\n",
    "P = linalg.solve_continuous_are(A, B, Q, R)\n",
    "\n",
    "K = linalg.inv(R) @  B.T @ P\n",
    "\n",
    "linalg.eigvals(A - B @ K)"
   ]
  },
  {
   "cell_type": "markdown",
   "id": "87d3bf6e",
   "metadata": {},
   "source": [
    "This is to just see the gain matrix."
   ]
  },
  {
   "cell_type": "code",
   "execution_count": 11,
   "id": "d4741f97",
   "metadata": {},
   "outputs": [
    {
     "data": {
      "text/plain": [
       "array([[  0.70710678,   2.25960916,  -0.70710678,   1.62840806,\n",
       "        -14.25293956,  -1.06282221],\n",
       "       [ -0.70710678,  -2.25960916,  -0.70710678,  -1.62840806,\n",
       "        -14.25293956,  -1.06282221]])"
      ]
     },
     "execution_count": 11,
     "metadata": {},
     "output_type": "execute_result"
    }
   ],
   "source": [
    "K"
   ]
  },
  {
   "cell_type": "markdown",
   "id": "e09c0cf1",
   "metadata": {},
   "source": [
    "The purpose of this code is to test the controllability of our gain matrix using NumPy's mmatrix_rank function. If this outputs a rank that is equivalent to the number of states, that means that our system is fully controllable."
   ]
  },
  {
   "cell_type": "code",
   "execution_count": 12,
   "id": "842bd69a",
   "metadata": {},
   "outputs": [
    {
     "data": {
      "text/plain": [
       "6"
      ]
     },
     "execution_count": 12,
     "metadata": {},
     "output_type": "execute_result"
    }
   ],
   "source": [
    "# Find the number of states\n",
    "n = A.shape[0]\n",
    "\n",
    "# Initialize W with its first column\n",
    "W = B\n",
    "\n",
    "# Create W one column at a time by iterating over i from 1 to n-1\n",
    "for i in range(1, n):\n",
    "    col = np.linalg.matrix_power(A, i) @ B\n",
    "    W = np.block([W, col])\n",
    "\n",
    "rank = np.linalg.matrix_rank(W)\n",
    "\n",
    "rank"
   ]
  },
  {
   "cell_type": "markdown",
   "id": "e60b5e37",
   "metadata": {},
   "source": [
    "# Simulation"
   ]
  },
  {
   "cell_type": "markdown",
   "id": "215da37f",
   "metadata": {},
   "source": [
    "Simulate the segbot using the PyBullet simulator."
   ]
  },
  {
   "cell_type": "code",
   "execution_count": 13,
   "id": "cd0df3af",
   "metadata": {},
   "outputs": [
    {
     "name": "stdout",
     "output_type": "stream",
     "text": [
      "You can open the visualizer by visiting the following URL:\n",
      "http://127.0.0.1:7000/static/\n"
     ]
    }
   ],
   "source": [
    "simulator = ae353_segbot.Simulator(\n",
    "    display=True,\n",
    "    bumpy=False,\n",
    ")"
   ]
  },
  {
   "cell_type": "markdown",
   "id": "53921da9",
   "metadata": {},
   "source": [
    "Set the controls and limits of the slider. Notice the `min` and `max` values: as stated in the report, these were adjusted to prevent the user from being able to easily drive the segbot off of the course."
   ]
  },
  {
   "cell_type": "code",
   "execution_count": 14,
   "id": "7dd1bd04",
   "metadata": {},
   "outputs": [],
   "source": [
    "slider = widgets.FloatSlider(\n",
    "    value=0.,\n",
    "    min=-2.4,\n",
    "    max=2.4,\n",
    "    step=0.01,\n",
    "    description='Centerline:',\n",
    "    disabled=False,\n",
    "    continuous_update=True,\n",
    "    orientation='horizontal',\n",
    "    readout=True,\n",
    "    readout_format='.2f',\n",
    "    layout=widgets.Layout(width='75%', border='solid 2px', margin='10px')\n",
    ")"
   ]
  },
  {
   "cell_type": "markdown",
   "id": "4688d673",
   "metadata": {},
   "source": [
    "Set the simulation camera view to a back view, allowing the viewer to clearly see the segbot as it travels across the space station."
   ]
  },
  {
   "cell_type": "code",
   "execution_count": 15,
   "id": "cbbb58d4",
   "metadata": {},
   "outputs": [],
   "source": [
    "simulator.camera_backview()"
   ]
  },
  {
   "cell_type": "markdown",
   "id": "defd0c02",
   "metadata": {},
   "source": [
    "Define a controller that maps sensor measurements to torque commands. This is where we use the gain matrix and equilibrium points from above."
   ]
  },
  {
   "cell_type": "code",
   "execution_count": 16,
   "id": "5fd520ef",
   "metadata": {},
   "outputs": [],
   "source": [
    "class Controller:\n",
    "    def __init__(self):\n",
    "        self.lateral_error_tracker = np.array([])\n",
    "        pass\n",
    "    \n",
    "    def reset(self):\n",
    "        pass\n",
    "    \n",
    "    def run(\n",
    "            self,\n",
    "            t,\n",
    "            lateral_error,\n",
    "            heading_error,\n",
    "            forward_speed,\n",
    "            turning_rate,\n",
    "            pitch_angle,\n",
    "            pitch_rate,\n",
    "        ):\n",
    "        \n",
    "        max_lateral = 1.7\n",
    "        \n",
    "        if lateral_error < -1 * max_lateral:\n",
    "            lateral_error_new = -1 * max_lateral        \n",
    "        elif lateral_error > max_lateral:\n",
    "            lateral_error_new = max_lateral\n",
    "        else:\n",
    "            lateral_error_new = lateral_error\n",
    "        \n",
    "        x = np.array([[lateral_error_new],\n",
    "                      [heading_error],\n",
    "                      [forward_speed - 2], \n",
    "                      [turning_rate],\n",
    "                      [pitch_angle],\n",
    "                      [pitch_rate]])\n",
    "        \n",
    "        u = -K @ x\n",
    "        \n",
    "        # FIXME: replace the following lines\n",
    "        right_wheel_torque = u[0][0]\n",
    "        left_wheel_torque = u[1][0]\n",
    "        \n",
    "        return right_wheel_torque, left_wheel_torque"
   ]
  },
  {
   "cell_type": "markdown",
   "id": "8aaba57d",
   "metadata": {},
   "source": [
    "Create an instance of the controller."
   ]
  },
  {
   "cell_type": "code",
   "execution_count": 17,
   "id": "4c9c5ce6",
   "metadata": {},
   "outputs": [],
   "source": [
    "controller = Controller()"
   ]
  },
  {
   "cell_type": "markdown",
   "id": "ebcb0093",
   "metadata": {},
   "source": [
    "# Trial 1: Testing the Slider Edges"
   ]
  },
  {
   "cell_type": "markdown",
   "id": "0bc30614",
   "metadata": {},
   "source": [
    "Reset the simulator with given initial conditions. Notice how the station velocity is kept constant."
   ]
  },
  {
   "cell_type": "code",
   "execution_count": 18,
   "id": "66b24507",
   "metadata": {},
   "outputs": [],
   "source": [
    "simulator.reset(\n",
    "    initial_speed=1.,\n",
    "    initial_lateral_error=0.,\n",
    "    initial_heading_error=0.,\n",
    "    initial_pitch=0.,\n",
    "    station_velocity=-0.5,\n",
    ")"
   ]
  },
  {
   "cell_type": "markdown",
   "id": "742fb9d5",
   "metadata": {},
   "source": [
    "Reset the segbot, and reset the slider value to 0."
   ]
  },
  {
   "cell_type": "code",
   "execution_count": 19,
   "id": "b77bff93",
   "metadata": {},
   "outputs": [],
   "source": [
    "controller.reset()\n",
    "slider.value = 0."
   ]
  },
  {
   "cell_type": "markdown",
   "id": "a6fdb770",
   "metadata": {},
   "source": [
    "Run the simulation for 15 seconds asynchronously to allow use of the slider."
   ]
  },
  {
   "cell_type": "code",
   "execution_count": 20,
   "id": "1c7afab7",
   "metadata": {},
   "outputs": [
    {
     "data": {
      "application/vnd.jupyter.widget-view+json": {
       "model_id": "f37c3c0cdefd402b90853805929f64b2",
       "version_major": 2,
       "version_minor": 0
      },
      "text/plain": [
       "FloatSlider(value=0.0, description='Centerline:', layout=Layout(border_bottom='solid 2px', border_left='solid …"
      ]
     },
     "metadata": {},
     "output_type": "display_data"
    },
    {
     "name": "stdout",
     "output_type": "stream",
     "text": [
      "Simulated 1501 time steps in 15.0482 seconds (99.7463 time steps per second)\n"
     ]
    }
   ],
   "source": [
    "# Show the slider, to allow steering the robot\n",
    "display(slider)\n",
    "\n",
    "# Run the simulation asynchronously, to allow using the slider\n",
    "obj = asyncio.ensure_future(\n",
    "    simulator.run(\n",
    "        controller,           # <-- required (an instance of your Controller class)\n",
    "        max_time=15.0,         # <-- optional (how long you want to run the simulation in seconds)\n",
    "        data_filename=None,   # <-- optional (save data to this file, e.g., 'my_data.json')\n",
    "        video_filename=None,  # <-- optional (save video to this file, e.g., 'my_video.mov')\n",
    "        slider=slider,        # <-- optional (allow steering)\n",
    "        print_debug=True,     # <-- optional (say when the simulator has finished running)\n",
    "    )\n",
    ")"
   ]
  },
  {
   "cell_type": "markdown",
   "id": "e1e9703d",
   "metadata": {},
   "source": [
    "Once the simulation is over, move the data from the asynchronous simulation to a new object that will allow for synchronous simulation and produce data that we can plot."
   ]
  },
  {
   "cell_type": "code",
   "execution_count": 21,
   "id": "569d8100",
   "metadata": {
    "scrolled": true
   },
   "outputs": [],
   "source": [
    "if obj.done():\n",
    "    data = obj.result()\n",
    "else:\n",
    "    print('You cannot get results until after the simulator is done running.')"
   ]
  },
  {
   "cell_type": "markdown",
   "id": "f5fd88d0",
   "metadata": {},
   "source": [
    "Run the simulation for 8 seconds. The slider is no longer accessible to the user, but the purpose of this simulation is to collect data, not to test controllability of the segbot."
   ]
  },
  {
   "cell_type": "code",
   "execution_count": 22,
   "id": "1e4dc126",
   "metadata": {},
   "outputs": [],
   "source": [
    "data = await simulator.run(\n",
    "    controller,           # <-- required (an instance of your Controller class)\n",
    "    max_time=8.0,         # <-- optional (how long you want to run the simulation in seconds)\n",
    "    data_filename=None,   # <-- optional (save data to this file, e.g., 'my_data.json')\n",
    "    video_filename=None,  # <-- optional (save video to this file, e.g., 'my_video.mov')\n",
    "    slider=None,          # <-- optional (allow no steering)\n",
    ")"
   ]
  },
  {
   "cell_type": "markdown",
   "id": "1c087dea",
   "metadata": {},
   "source": [
    "# Trial 2: Testing Segbot Stability"
   ]
  },
  {
   "cell_type": "markdown",
   "id": "e812a0c7",
   "metadata": {},
   "source": [
    "Reset the simulator with given initial conditions. Notice how the station velocity is kept constant."
   ]
  },
  {
   "cell_type": "code",
   "execution_count": 23,
   "id": "58f0ff37",
   "metadata": {},
   "outputs": [],
   "source": [
    "simulator.reset(\n",
    "    initial_speed=1.,\n",
    "    initial_lateral_error=0.,\n",
    "    initial_heading_error=0.,\n",
    "    initial_pitch=0.,\n",
    "    station_velocity=-0.5,\n",
    ")"
   ]
  },
  {
   "cell_type": "markdown",
   "id": "b56a0ad0",
   "metadata": {},
   "source": [
    "Reset the segbot, and reset the slider value to 0."
   ]
  },
  {
   "cell_type": "code",
   "execution_count": 24,
   "id": "42cad007",
   "metadata": {},
   "outputs": [],
   "source": [
    "controller.reset()\n",
    "slider.value = 0."
   ]
  },
  {
   "cell_type": "markdown",
   "id": "885dd74b",
   "metadata": {},
   "source": [
    "Run the simulation for 15 seconds asynchronously to allow use of the slider."
   ]
  },
  {
   "cell_type": "code",
   "execution_count": 25,
   "id": "84ee002b",
   "metadata": {},
   "outputs": [
    {
     "data": {
      "application/vnd.jupyter.widget-view+json": {
       "model_id": "f37c3c0cdefd402b90853805929f64b2",
       "version_major": 2,
       "version_minor": 0
      },
      "text/plain": [
       "FloatSlider(value=0.0, description='Centerline:', layout=Layout(border_bottom='solid 2px', border_left='solid …"
      ]
     },
     "metadata": {},
     "output_type": "display_data"
    },
    {
     "name": "stdout",
     "output_type": "stream",
     "text": [
      "Simulated 1501 time steps in 15.0305 seconds (99.8634 time steps per second)\n"
     ]
    }
   ],
   "source": [
    "# Show the slider, to allow steering the robot\n",
    "display(slider)\n",
    "\n",
    "# Run the simulation asynchronously, to allow using the slider\n",
    "obj = asyncio.ensure_future(\n",
    "    simulator.run(\n",
    "        controller,           # <-- required (an instance of your Controller class)\n",
    "        max_time=15.0,         # <-- optional (how long you want to run the simulation in seconds)\n",
    "        data_filename=None,   # <-- optional (save data to this file, e.g., 'my_data.json')\n",
    "        video_filename=None,  # <-- optional (save video to this file, e.g., 'my_video.mov')\n",
    "        slider=slider,        # <-- optional (allow steering)\n",
    "        print_debug=True,     # <-- optional (say when the simulator has finished running)\n",
    "    )\n",
    ")"
   ]
  },
  {
   "cell_type": "markdown",
   "id": "67cd2814",
   "metadata": {},
   "source": [
    "Once the simulation is over, move the data from the asynchronous simulation to a new object that will allow for synchronous simulation and produce data that we can plot."
   ]
  },
  {
   "cell_type": "code",
   "execution_count": 26,
   "id": "a46ed65f",
   "metadata": {},
   "outputs": [],
   "source": [
    "if obj.done():\n",
    "    data2 = obj.result()\n",
    "else:\n",
    "    print('You cannot get results until after the simulator is done running.')"
   ]
  },
  {
   "cell_type": "markdown",
   "id": "f977ab34",
   "metadata": {},
   "source": [
    "Run the simulation for 8 seconds. The slider is no longer accessible to the user, but the purpose of this simulation is to collect data, not to test controllability of the segbot."
   ]
  },
  {
   "cell_type": "code",
   "execution_count": 27,
   "id": "20d4a789",
   "metadata": {},
   "outputs": [],
   "source": [
    "data2 = await simulator.run(\n",
    "    controller,           # <-- required (an instance of your Controller class)\n",
    "    max_time=8.0,         # <-- optional (how long you want to run the simulation in seconds)\n",
    "    data_filename=None,   # <-- optional (save data to this file, e.g., 'my_data.json')\n",
    "    video_filename=None,  # <-- optional (save video to this file, e.g., 'my_video.mov')\n",
    "    slider=None,          # <-- optional (allow no steering)\n",
    ")"
   ]
  },
  {
   "cell_type": "markdown",
   "id": "90de8903",
   "metadata": {},
   "source": [
    "# Trial 3: Safe, Responsible Driving"
   ]
  },
  {
   "cell_type": "markdown",
   "id": "1ce18c37",
   "metadata": {},
   "source": [
    "Reset the simulator with given initial conditions. Notice how the station velocity is kept constant."
   ]
  },
  {
   "cell_type": "code",
   "execution_count": 28,
   "id": "917e6610",
   "metadata": {},
   "outputs": [],
   "source": [
    "simulator.reset(\n",
    "    initial_speed=1.,\n",
    "    initial_lateral_error=0.,\n",
    "    initial_heading_error=0.,\n",
    "    initial_pitch=0.,\n",
    "    station_velocity=-0.5,\n",
    ")"
   ]
  },
  {
   "cell_type": "markdown",
   "id": "6d834de9",
   "metadata": {},
   "source": [
    "Reset the segbot, and reset the slider value to 0."
   ]
  },
  {
   "cell_type": "code",
   "execution_count": 29,
   "id": "a6d55314",
   "metadata": {},
   "outputs": [],
   "source": [
    "controller.reset()\n",
    "slider.value = 0."
   ]
  },
  {
   "cell_type": "markdown",
   "id": "b3933293",
   "metadata": {},
   "source": [
    "Run the simulation for 15 seconds asynchronously to allow use of the slider."
   ]
  },
  {
   "cell_type": "code",
   "execution_count": 30,
   "id": "1a26852c",
   "metadata": {},
   "outputs": [
    {
     "data": {
      "application/vnd.jupyter.widget-view+json": {
       "model_id": "f37c3c0cdefd402b90853805929f64b2",
       "version_major": 2,
       "version_minor": 0
      },
      "text/plain": [
       "FloatSlider(value=0.0, description='Centerline:', layout=Layout(border_bottom='solid 2px', border_left='solid …"
      ]
     },
     "metadata": {},
     "output_type": "display_data"
    },
    {
     "name": "stdout",
     "output_type": "stream",
     "text": [
      "Simulated 1501 time steps in 15.0465 seconds (99.7574 time steps per second)\n"
     ]
    }
   ],
   "source": [
    "# Show the slider, to allow steering the robot\n",
    "display(slider)\n",
    "\n",
    "# Run the simulation asynchronously, to allow using the slider\n",
    "obj = asyncio.ensure_future(\n",
    "    simulator.run(\n",
    "        controller,           # <-- required (an instance of your Controller class)\n",
    "        max_time=15.0,         # <-- optional (how long you want to run the simulation in seconds)\n",
    "        data_filename=None,   # <-- optional (save data to this file, e.g., 'my_data.json')\n",
    "        video_filename=None,  # <-- optional (save video to this file, e.g., 'my_video.mov')\n",
    "        slider=slider,        # <-- optional (allow steering)\n",
    "        print_debug=True,     # <-- optional (say when the simulator has finished running)\n",
    "    )\n",
    ")"
   ]
  },
  {
   "cell_type": "markdown",
   "id": "a6bb518a",
   "metadata": {},
   "source": [
    "Once the simulation is over, move the data from the asynchronous simulation to a new object that will allow for synchronous simulation and produce data that we can plot."
   ]
  },
  {
   "cell_type": "code",
   "execution_count": 31,
   "id": "0948e026",
   "metadata": {},
   "outputs": [],
   "source": [
    "if obj.done():\n",
    "    data3 = obj.result()\n",
    "else:\n",
    "    print('You cannot get results until after the simulator is done running.')"
   ]
  },
  {
   "cell_type": "markdown",
   "id": "c964a0fe",
   "metadata": {},
   "source": [
    "Run the simulation for 8 seconds. The slider is no longer accessible to the user, but the purpose of this simulation is to collect data, not to test controllability of the segbot."
   ]
  },
  {
   "cell_type": "code",
   "execution_count": 32,
   "id": "f4b0ff4a",
   "metadata": {},
   "outputs": [],
   "source": [
    "data3 = await simulator.run(\n",
    "    controller,           # <-- required (an instance of your Controller class)\n",
    "    max_time=8.0,         # <-- optional (how long you want to run the simulation in seconds)\n",
    "    data_filename=None,   # <-- optional (save data to this file, e.g., 'my_data.json')\n",
    "    video_filename=None,  # <-- optional (save video to this file, e.g., 'my_video.mov')\n",
    "    slider=None,          # <-- optional (allow no steering)\n",
    ")"
   ]
  },
  {
   "cell_type": "markdown",
   "id": "71d47f32",
   "metadata": {},
   "source": [
    "# Plots"
   ]
  },
  {
   "cell_type": "markdown",
   "id": "0fd4f5a8",
   "metadata": {},
   "source": [
    "Plot results of the lateral errors of the three trials. These plots will prove the stability or instability of the segbot when it was running autonomously."
   ]
  },
  {
   "cell_type": "code",
   "execution_count": 33,
   "id": "e6536c74",
   "metadata": {},
   "outputs": [
    {
     "data": {
      "text/plain": [
       "<matplotlib.legend.Legend at 0x1ca9f234820>"
      ]
     },
     "execution_count": 33,
     "metadata": {},
     "output_type": "execute_result"
    },
    {
     "data": {
      "image/png": "[encoded data removed]",
      "text/plain": [
       "<Figure size 800x400 with 1 Axes>"
      ]
     },
     "metadata": {},
     "output_type": "display_data"
    }
   ],
   "source": [
    "# Create a plot of the lateral errors\n",
    "fig, axs = plt.subplots(1, 1, figsize=(8, 4), sharex=True)\n",
    "\n",
    "# Plot lateral error\n",
    "axs.plot(data['t'], data['lateral_error'], 'navy', linewidth=2, label=\"Trial 1\")\n",
    "axs.plot(data2['t'], data2['lateral_error'], linestyle='dashed', color='orangered', linewidth=2, label=\"Trial 2\")\n",
    "axs.plot(data3['t'], data3['lateral_error'], linestyle='dashdot', color='green', linewidth=2, label=\"Trial 3\")\n",
    "axs.grid()\n",
    "axs.tick_params(labelsize=14)\n",
    "axs.set_ylabel('Lateral Error (m)', fontsize=20)\n",
    "axs.set_xlabel('Time (s)', fontsize=20)\n",
    "axs.legend(fontsize='xx-large')"
   ]
  },
  {
   "cell_type": "markdown",
   "id": "5d381167",
   "metadata": {},
   "source": [
    "Find the lateral error value of each trial at 4 seconds to verify our requirement."
   ]
  },
  {
   "cell_type": "code",
   "execution_count": 34,
   "id": "1f702da3",
   "metadata": {},
   "outputs": [
    {
     "name": "stdout",
     "output_type": "stream",
     "text": [
      "Lateral Error at 4 seconds for Trial 1 (in m):  0.10475134778154005\n",
      "Lateral Error at 4 seconds for Trial 2 (in m):  0.005368435016228107\n",
      "Lateral Error at 4 seconds for Trial 3 (in m):  -0.049568087239187014\n"
     ]
    }
   ],
   "source": [
    "ind = np.argmin(abs(data['t']-4.0))\n",
    "\n",
    "error_trial_1 = data['lateral_error'][ind]\n",
    "error_trial_2 = data2['lateral_error'][ind]\n",
    "error_trial_3 = data3['lateral_error'][ind]\n",
    "\n",
    "print('Lateral Error at 4 seconds for Trial 1 (in m): ', error_trial_1)\n",
    "print('Lateral Error at 4 seconds for Trial 2 (in m): ', error_trial_2)\n",
    "print('Lateral Error at 4 seconds for Trial 3 (in m): ', error_trial_3)"
   ]
  }
 ],
 "metadata": {
  "kernelspec": {
   "display_name": "Python 3 (ipykernel)",
   "language": "python",
   "name": "python3"
  },
  "language_info": {
   "codemirror_mode": {
    "name": "ipython",
    "version": 3
   },
   "file_extension": ".py",
   "mimetype": "text/x-python",
   "name": "python",
   "nbconvert_exporter": "python",
   "pygments_lexer": "ipython3",
   "version": "3.10.8"
  }
 },
 "nbformat": 4,
 "nbformat_minor": 5
}
