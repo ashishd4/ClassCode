{
 "cells": [
  {
   "cell_type": "code",
   "execution_count": 1,
   "id": "0faef900",
   "metadata": {},
   "outputs": [
    {
     "name": "stdout",
     "output_type": "stream",
     "text": [
      "BP needed for staging separation: 1.254g\n",
      "BP needed for lower stage separation: 3.405g\n",
      "BP needed for upper stage separation: 4.745g\n",
      "120.16591899980959\n"
     ]
    }
   ],
   "source": [
    "\n",
    "# Equation for calculating black powder needed\n",
    "# http://hararocketry.org/hara/resources/how-to-size-ejection-charge/\n",
    "\n",
    "import numpy as np\n",
    "\n",
    "Pressure = 12 # assuming we want this much pressure (psi)\n",
    "# \"Typical pressure range is from 8-16 psi\"\n",
    "Diameter = 3 # airframe diameter (inches)\n",
    "Area = np.pi*Diameter**2/4\n",
    "Area1 = np.pi*(1.5**2)\n",
    "R = 266 # gas constant (inches * lbf / lbm)\n",
    "T_separation = 518.67 #515.46 # 900 ft. (Rankine)\n",
    "T_lower = 518.67 #515.46 # 900 ft. (Rankine)\n",
    "T_upper = 518.67 #490.141 # 8000 ft. (Rankine)\n",
    "L_lower = 12.2 # length between bulkheads in the lower stage\n",
    "L_upper = 17 # length between bulkheads in the upper stage\n",
    "V_lower = Area * L_lower\n",
    "V_upper = Area * L_upper\n",
    "g_to_lb = 454 # number of grams in a pound (g to lbm)\n",
    "V_separation = 31.762 # (cubic inches)\n",
    "\n",
    "B_separation = Pressure * V_separation / (R * T_separation) * g_to_lb # BP needed for staging separation\n",
    "B_lower = Pressure * V_lower / R / T_lower * g_to_lb # BP needed for booster tube separation\n",
    "B_upper = Pressure * V_upper / R / T_upper * g_to_lb # BP needed for sustainer separation\n",
    "print('BP needed for staging separation: {:.3f}g'.format(B_separation),)\n",
    "print('BP needed for lower stage separation: {:.3f}g'.format(B_lower))\n",
    "print('BP needed for upper stage separation: {:.3f}g'.format(B_upper))\n",
    "print(V_upper)"
   ]
  },
  {
   "cell_type": "code",
   "execution_count": 2,
   "id": "bb62765d",
   "metadata": {},
   "outputs": [
    {
     "name": "stdout",
     "output_type": "stream",
     "text": [
      "40.3094259890258\n"
     ]
    }
   ],
   "source": [
    "# PARACHUTE DIAMETER\n",
    "# mg = (1/2)pv^2CDA\n",
    "# this function is used to find the diameter of a parachute in meters given the terminal velocity\n",
    "# , CD, mass of rocket, and air density\n",
    "import numpy as np\n",
    "# important numbers\n",
    "# p @ upper stage 7,000 ft = 0.993\n",
    "# p @ lower stage 3,500 ft = 1.104\n",
    "# expected velocity = 6.7056 m/s\n",
    "# mass of upper stage = 2.63651 kg\n",
    "# mass of lower stage = 1.87107 kg\n",
    "# CD is 0.97 for these parachutes\n",
    "C_D = 0.97 # this is specific to the staging parachutes\n",
    "p = 0.993 # air density changes depending on apogee, needs to be in kg / m^3\n",
    "g = 9.81 # m/s^2 , acceleration due to gravity\n",
    "m = 2.63651 # this value needs to be in kg\n",
    "v = 26.5/3.281 # this value needs to be in m/s\n",
    "A = (2*m*g/((v**2)*p*C_D))\n",
    "d = 2*(np.sqrt(A/np.pi))\n",
    "print(d*3.281*12) #inches"
   ]
  },
  {
   "cell_type": "code",
   "execution_count": null,
   "id": "70fb5be9",
   "metadata": {},
   "outputs": [],
   "source": []
  }
 ],
 "metadata": {
  "kernelspec": {
   "display_name": "Python 3 (ipykernel)",
   "language": "python",
   "name": "python3"
  },
  "language_info": {
   "codemirror_mode": {
    "name": "ipython",
    "version": 3
   },
   "file_extension": ".py",
   "mimetype": "text/x-python",
   "name": "python",
   "nbconvert_exporter": "python",
   "pygments_lexer": "ipython3",
   "version": "3.11.3"
  }
 },
 "nbformat": 4,
 "nbformat_minor": 5
}
