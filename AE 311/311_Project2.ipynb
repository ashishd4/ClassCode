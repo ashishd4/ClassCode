{
 "cells": [
  {
   "cell_type": "code",
   "execution_count": 2,
   "id": "burning-hanging",
   "metadata": {},
   "outputs": [
    {
     "name": "stderr",
     "output_type": "stream",
     "text": [
      "Matplotlib created a temporary config/cache directory at /tmp/matplotlib-ivm1wvw8 because the default path (/tmp/cache/matplotlib) is not a writable directory; it is highly recommended to set the MPLCONFIGDIR environment variable to a writable directory, in particular to speed up the import of Matplotlib and to better support multiprocessing.\n"
     ]
    }
   ],
   "source": [
    "from sympy import *\n",
    "import numpy as np\n",
    "import matplotlib.pyplot as plt"
   ]
  },
  {
   "cell_type": "code",
   "execution_count": 25,
   "id": "received-storm",
   "metadata": {},
   "outputs": [
    {
     "data": {
      "image/png": "[encoded data removed]",
      "text/plain": [
       "<Figure size 432x288 with 1 Axes>"
      ]
     },
     "metadata": {
      "needs_background": "light"
     },
     "output_type": "display_data"
    }
   ],
   "source": [
    "# 3 - vi\n",
    "\n",
    "a = np.linspace(0.01, 2, 100)\n",
    "\n",
    "L = 49*np.pi*(136000*a - 289)/6400000/a\n",
    "\n",
    "plt.plot(a, L)\n",
    "plt.title('Sectional Lift Force vs. Distance from Ground (V = 10 m/s)')\n",
    "plt.xlabel('Distance from Ground (in m)')\n",
    "plt.ylabel('Sectional Lift Force (in N/m)')\n",
    "plt.show()"
   ]
  },
  {
   "cell_type": "code",
   "execution_count": 1,
   "id": "wooden-portable",
   "metadata": {},
   "outputs": [
    {
     "name": "stderr",
     "output_type": "stream",
     "text": [
      "Matplotlib created a temporary config/cache directory at /tmp/matplotlib-gg2dryhn because the default path (/tmp/cache/matplotlib) is not a writable directory; it is highly recommended to set the MPLCONFIGDIR environment variable to a writable directory, in particular to speed up the import of Matplotlib and to better support multiprocessing.\n"
     ]
    },
    {
     "ename": "FileNotFoundError",
     "evalue": "[Errno 2] No such file or directory: 'CL_a_Tapered_NACA1412.csv'",
     "output_type": "error",
     "traceback": [
      "\u001b[0;31m---------------------------------------------------------------------------\u001b[0m",
      "\u001b[0;31mFileNotFoundError\u001b[0m                         Traceback (most recent call last)",
      "\u001b[0;32m<ipython-input-1-07889c767043>\u001b[0m in \u001b[0;36m<module>\u001b[0;34m\u001b[0m\n\u001b[1;32m      5\u001b[0m \u001b[0mx_CL_a\u001b[0m \u001b[0;34m=\u001b[0m \u001b[0;34m[\u001b[0m\u001b[0;34m]\u001b[0m\u001b[0;34m\u001b[0m\u001b[0;34m\u001b[0m\u001b[0m\n\u001b[1;32m      6\u001b[0m \u001b[0my_CL_a\u001b[0m \u001b[0;34m=\u001b[0m \u001b[0;34m[\u001b[0m\u001b[0;34m]\u001b[0m\u001b[0;34m\u001b[0m\u001b[0;34m\u001b[0m\u001b[0m\n\u001b[0;32m----> 7\u001b[0;31m \u001b[0;32mwith\u001b[0m \u001b[0mopen\u001b[0m \u001b[0;34m(\u001b[0m\u001b[0;34m\"CL_a_Tapered_NACA1412.csv\"\u001b[0m\u001b[0;34m,\u001b[0m \u001b[0;34m'r'\u001b[0m\u001b[0;34m)\u001b[0m \u001b[0;32mas\u001b[0m \u001b[0mCL_a_File\u001b[0m\u001b[0;34m:\u001b[0m\u001b[0;34m\u001b[0m\u001b[0;34m\u001b[0m\u001b[0m\n\u001b[0m\u001b[1;32m      8\u001b[0m     \u001b[0mCL_a_data\u001b[0m \u001b[0;34m=\u001b[0m \u001b[0mcsv\u001b[0m\u001b[0;34m.\u001b[0m\u001b[0mreader\u001b[0m\u001b[0;34m(\u001b[0m\u001b[0mCL_a_File\u001b[0m\u001b[0;34m,\u001b[0m \u001b[0mdelimiter\u001b[0m \u001b[0;34m=\u001b[0m \u001b[0;34m','\u001b[0m\u001b[0;34m)\u001b[0m\u001b[0;34m\u001b[0m\u001b[0;34m\u001b[0m\u001b[0m\n\u001b[1;32m      9\u001b[0m     \u001b[0;32mfor\u001b[0m \u001b[0mrow\u001b[0m \u001b[0;32min\u001b[0m \u001b[0mCL_a_data\u001b[0m\u001b[0;34m:\u001b[0m\u001b[0;34m\u001b[0m\u001b[0;34m\u001b[0m\u001b[0m\n",
      "\u001b[0;31mFileNotFoundError\u001b[0m: [Errno 2] No such file or directory: 'CL_a_Tapered_NACA1412.csv'"
     ]
    }
   ],
   "source": [
    "import numpy as np\n",
    "import matplotlib.pyplot as plt\n",
    "import csv\n",
    "\n",
    "x_CL_a = []\n",
    "y_CL_a = []\n",
    "with open (\"CL_a_Tapered_NACA1412.csv\", 'r') as CL_a_File:\n",
    "    CL_a_data = csv.reader(CL_a_File, delimiter = ',')\n",
    "    for row in CL_a_data:\n",
    "        x_CL_a.append(row[0])\n",
    "        y_CL_a.append(row[1])\n",
    "        \n",
    "x_CL_a[0] = -8 #correcting excel formatting bug\n",
    "\n",
    "for i in range(len(x_CL_a)):\n",
    "    x_CL_a[i] = np.deg2rad(float(x_CL_a[i]))\n",
    "    y_CL_a[i] = float(y_CL_a[i])\n",
    "    \n",
    "plt.plot(x_CL_a, y_CL_a, label=\"XFLR5 Data\")\n",
    "plt.xlabel(\"alpha [rads]\")\n",
    "plt.ylabel(\"Cl\")\n",
    "plt.title(\"Cl/alpha of Tapered NACA1412 Wing\")\n",
    "\n",
    "alphas = np.linspace(-.15, .2, 50)\n",
    "\n",
    "def CL(alpha):\n",
    "    return 5.3565*(alpha + .0181274)\n",
    "\n",
    "CLs = CL(alphas)\n",
    "plt.plot(alphas, CLs, \"--\", label=\"TAT Estimation\")\n",
    "plt.legend()\n"
   ]
  },
  {
   "cell_type": "code",
   "execution_count": 2,
   "id": "skilled-gothic",
   "metadata": {},
   "outputs": [
    {
     "ename": "FileNotFoundError",
     "evalue": "[Errno 2] No such file or directory: 'Cl_Cd_Tapered_NACA1412.csv'",
     "output_type": "error",
     "traceback": [
      "\u001b[0;31m---------------------------------------------------------------------------\u001b[0m",
      "\u001b[0;31mFileNotFoundError\u001b[0m                         Traceback (most recent call last)",
      "\u001b[0;32m<ipython-input-2-cde0dff111b3>\u001b[0m in \u001b[0;36m<module>\u001b[0;34m\u001b[0m\n\u001b[1;32m      5\u001b[0m \u001b[0mx_Cl_Cd\u001b[0m \u001b[0;34m=\u001b[0m \u001b[0;34m[\u001b[0m\u001b[0;34m]\u001b[0m\u001b[0;34m\u001b[0m\u001b[0;34m\u001b[0m\u001b[0m\n\u001b[1;32m      6\u001b[0m \u001b[0my_Cl_Cd\u001b[0m \u001b[0;34m=\u001b[0m \u001b[0;34m[\u001b[0m\u001b[0;34m]\u001b[0m\u001b[0;34m\u001b[0m\u001b[0;34m\u001b[0m\u001b[0m\n\u001b[0;32m----> 7\u001b[0;31m \u001b[0;32mwith\u001b[0m \u001b[0mopen\u001b[0m\u001b[0;34m(\u001b[0m\u001b[0;34m\"Cl_Cd_Tapered_NACA1412.csv\"\u001b[0m\u001b[0;34m,\u001b[0m \u001b[0;34m'r'\u001b[0m\u001b[0;34m)\u001b[0m \u001b[0;32mas\u001b[0m \u001b[0mCl_Cd_File\u001b[0m\u001b[0;34m:\u001b[0m\u001b[0;34m\u001b[0m\u001b[0;34m\u001b[0m\u001b[0m\n\u001b[0m\u001b[1;32m      8\u001b[0m     \u001b[0mCl_Cd_data\u001b[0m \u001b[0;34m=\u001b[0m \u001b[0mcsv\u001b[0m\u001b[0;34m.\u001b[0m\u001b[0mreader\u001b[0m\u001b[0;34m(\u001b[0m\u001b[0mCl_Cd_File\u001b[0m\u001b[0;34m,\u001b[0m \u001b[0mdelimiter\u001b[0m \u001b[0;34m=\u001b[0m \u001b[0;34m\",\"\u001b[0m\u001b[0;34m)\u001b[0m\u001b[0;34m\u001b[0m\u001b[0;34m\u001b[0m\u001b[0m\n\u001b[1;32m      9\u001b[0m     \u001b[0;32mfor\u001b[0m \u001b[0mrow\u001b[0m \u001b[0;32min\u001b[0m \u001b[0mCl_Cd_data\u001b[0m\u001b[0;34m:\u001b[0m\u001b[0;34m\u001b[0m\u001b[0;34m\u001b[0m\u001b[0m\n",
      "\u001b[0;31mFileNotFoundError\u001b[0m: [Errno 2] No such file or directory: 'Cl_Cd_Tapered_NACA1412.csv'"
     ]
    }
   ],
   "source": [
    "import numpy as np\n",
    "import matplotlib.pyplot as plt\n",
    "import csv\n",
    "\n",
    "x_Cl_Cd = []\n",
    "y_Cl_Cd = []\n",
    "with open(\"Cl_Cd_Tapered_NACA1412.csv\", 'r') as Cl_Cd_File:\n",
    "    Cl_Cd_data = csv.reader(Cl_Cd_File, delimiter = \",\")\n",
    "    for row in Cl_Cd_data:\n",
    "        x_Cl_Cd.append(row[0])\n",
    "        y_Cl_Cd.append(row[1])\n",
    "        \n",
    "for i in range(len(x_Cl_Cd)):\n",
    "    x_Cl_Cd[i] = float(x_Cl_Cd[i])\n",
    "    y_Cl_Cd[i] = float(y_Cl_Cd[i])\n",
    "    \n",
    "plt.plot(x_Cl_Cd, y_Cl_Cd, label=\"XFLR5 Data\")\n",
    "plt.xlabel(\"Cd\")\n",
    "plt.ylabel(\"Cl\")\n",
    "plt.title(\"Cl/Cd of Tapered NACA 1412\")\n",
    "\n",
    "Cls = np.linspace(-.75, 1.25, 50)\n",
    "def Cd(Cl):\n",
    "    return ((Cl**2)*(1+.025)) / (np.pi*12.38)\n",
    "Cds = Cd(Cls)\n",
    "plt.plot(Cds, Cls, label = \"Analytical Estimation\")\n",
    "plt.legend()"
   ]
  },
  {
   "cell_type": "code",
   "execution_count": null,
   "id": "packed-singapore",
   "metadata": {},
   "outputs": [],
   "source": []
  }
 ],
 "metadata": {
  "kernelspec": {
   "display_name": "Python 3",
   "language": "python",
   "name": "python3"
  },
  "language_info": {
   "codemirror_mode": {
    "name": "ipython",
    "version": 3
   },
   "file_extension": ".py",
   "mimetype": "text/x-python",
   "name": "python",
   "nbconvert_exporter": "python",
   "pygments_lexer": "ipython3",
   "version": "3.8.6"
  }
 },
 "nbformat": 4,
 "nbformat_minor": 5
}
