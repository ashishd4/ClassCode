{
 "cells": [
  {
   "cell_type": "code",
   "execution_count": 32,
   "metadata": {},
   "outputs": [],
   "source": [
    "import numpy as np\n",
    "import sympy as sym\n",
    "import matplotlib.pyplot as plt\n",
    "import matplotlib"
   ]
  },
  {
   "cell_type": "code",
   "execution_count": 4,
   "metadata": {},
   "outputs": [],
   "source": [
    "s = 1 # seed\n",
    "a = 4 # multiplier\n",
    "c = 1 # increment\n",
    "m = 5 # modulus\n",
    "\n",
    "n = 60\n",
    "x = np.zeros(n)\n",
    "x[0] = s\n",
    "for i in range(1,n):\n",
    "    x[i] = (a * x[i-1] + c) % m"
   ]
  },
  {
   "cell_type": "code",
   "execution_count": 5,
   "metadata": {},
   "outputs": [
    {
     "data": {
      "text/plain": [
       "array([1., 0., 1., 0., 1., 0., 1., 0., 1., 0., 1., 0., 1., 0., 1., 0., 1.,\n",
       "       0., 1., 0., 1., 0., 1., 0., 1., 0., 1., 0., 1., 0., 1., 0., 1., 0.,\n",
       "       1., 0., 1., 0., 1., 0., 1., 0., 1., 0., 1., 0., 1., 0., 1., 0., 1.,\n",
       "       0., 1., 0., 1., 0., 1., 0., 1., 0.])"
      ]
     },
     "execution_count": 5,
     "metadata": {},
     "output_type": "execute_result"
    }
   ],
   "source": [
    "x"
   ]
  },
  {
   "cell_type": "code",
   "execution_count": 11,
   "metadata": {},
   "outputs": [
    {
     "data": {
      "text/plain": [
       "1"
      ]
     },
     "execution_count": 11,
     "metadata": {},
     "output_type": "execute_result"
    }
   ],
   "source": [
    "vals = [[0, 0, 1],\n",
    "        [0, np.pi/2, 1],\n",
    "        [0.7, np.pi/8, 0.3],\n",
    "        [0.6, 0.4, 1]]\n",
    "\n",
    "counter = 0\n",
    "for i in vals:\n",
    "    test = True\n",
    "    \n",
    "    if (0 > i[0] or 1 < i[0]):\n",
    "        test = False\n",
    "    if (0 > i[1] or 1 < i[1]):\n",
    "        test = False\n",
    "    if (0 > i[2] or 1 < i[2]):\n",
    "        test = False\n",
    "        \n",
    "    if (i[0]**2 + np.sin(i[1]) > i[2]):\n",
    "        test = False\n",
    "        \n",
    "    if (i[0] - i[2] + np.exp(i[1]) > 1):\n",
    "        test = False\n",
    "        \n",
    "    if (test == True):\n",
    "        counter += 1\n",
    "\n",
    "counter"
   ]
  },
  {
   "cell_type": "code",
   "execution_count": 12,
   "metadata": {},
   "outputs": [
    {
     "data": {
      "text/plain": [
       "31622.776601683792"
      ]
     },
     "execution_count": 12,
     "metadata": {},
     "output_type": "execute_result"
    }
   ],
   "source": [
    "1000 * np.sqrt(1000)"
   ]
  },
  {
   "cell_type": "code",
   "execution_count": 31,
   "metadata": {},
   "outputs": [
    {
     "data": {
      "image/png": "[encoded data removed]",
      "text/plain": [
       "<Figure size 432x288 with 1 Axes>"
      ]
     },
     "metadata": {
      "needs_background": "light"
     },
     "output_type": "display_data"
    }
   ],
   "source": [
    "# HW7.9. Calculating pi using Monte Carlo\n",
    "\n",
    "size = 10000\n",
    "\n",
    "xs = np.random.rand(size)\n",
    "ys = np.random.rand(size)\n",
    "\n",
    "# Part 1\n",
    "def calculate_pi(x_s, y_s): # CORRECT\n",
    "    in_circle = 0\n",
    "    for i in range(len(x_s)):\n",
    "        if (x_s[i]**2 + y_s[i]**2 <= 1):\n",
    "            in_circle += 1\n",
    "        \n",
    "    return 4 * in_circle / len(x_s)\n",
    "\n",
    "# Part 2\n",
    "pi = np.zeros(7)\n",
    "for i in range(7):\n",
    "    pi[i] = calculate_pi(xs[:10**i], ys[:10**i])\n",
    "    \n",
    "# Part 3\n",
    "samples = np.array([1, 10, 100, 1000, 10000, 100000, 1000000])\n",
    "\n",
    "plt.loglog(samples, np.abs(pi - np.pi), '.')\n",
    "plt.title('Error vs. Sample Size')\n",
    "plt.ylabel('Error')\n",
    "plt.xlabel('Sample Size')\n",
    "\n",
    "plot = plt"
   ]
  },
  {
   "cell_type": "code",
   "execution_count": 53,
   "metadata": {},
   "outputs": [
    {
     "data": {
      "image/png": "[encoded data removed]",
      "text/plain": [
       "<Figure size 432x288 with 1 Axes>"
      ]
     },
     "metadata": {
      "needs_background": "light"
     },
     "output_type": "display_data"
    },
    {
     "data": {
      "text/plain": [
       "23"
      ]
     },
     "execution_count": 53,
     "metadata": {},
     "output_type": "execute_result"
    }
   ],
   "source": [
    "# HW7.10. The Birthday Problem\n",
    "\n",
    "def genroom(n):\n",
    "    return np.random.randint(1, 366, n)\n",
    "\n",
    "def has_duplicates(arr):\n",
    "    arr_list = arr.tolist()\n",
    "    \n",
    "    seen = set()\n",
    "    \n",
    "    for num in arr_list:\n",
    "        if num in seen:\n",
    "            return 1\n",
    "        seen.add(num)\n",
    "    return 0\n",
    "\n",
    "def duplicate_birthdays(n):\n",
    "    repeats = 0\n",
    "    for i in range(1000):\n",
    "        repeats += has_duplicates(genroom(n))\n",
    "\n",
    "    return repeats\n",
    "\n",
    "# Part 1\n",
    "prob_n = np.zeros([99])\n",
    "for n in range(2, 101):\n",
    "    prob_n[n-2] = duplicate_birthdays(n) / 1000\n",
    "\n",
    "# Part 2\n",
    "perc_50 = 2\n",
    "while (prob_n[perc_50-2] < 0.5):\n",
    "    perc_50 += 1\n",
    "\n",
    "# Part 3\n",
    "people = np.arange(2, 101)\n",
    "\n",
    "plt.plot(people, prob_n)\n",
    "plt.title('Chance of Sharing a Birthday vs. Number of People')\n",
    "plt.ylabel('Chance of Sharing a Birthday')\n",
    "plt.xlabel('Number of People')\n",
    "plt.grid()\n",
    "plt.show()\n",
    "# Plot prob_n\n",
    "\n",
    "perc_50"
   ]
  },
  {
   "cell_type": "code",
   "execution_count": 69,
   "metadata": {},
   "outputs": [
    {
     "data": {
      "text/plain": [
       "5.384"
      ]
     },
     "execution_count": 69,
     "metadata": {},
     "output_type": "execute_result"
    }
   ],
   "source": [
    "# HW7.11. Calculating a Volume of Intersection\n",
    "\n",
    "r = 1\n",
    "\n",
    "# Part 1\n",
    "def insideCylinders(pos,r):\n",
    "    if (pos[1]**2 + pos[2]**2 > r**2):\n",
    "        return False\n",
    "    if (pos[0]**2 + pos[1]**2 > r**2):\n",
    "        return False\n",
    "    return True\n",
    "\n",
    "# Part 2\n",
    "def prob_inside_volume(N,r):\n",
    "    counter = 0\n",
    "    for i in range(N):\n",
    "        x = np.random.random()*2*r - r\n",
    "        y = np.random.random()*2*r - r\n",
    "        z = np.random.random()*2*r - r\n",
    "        position = np.array([x, y, z])\n",
    "        if (insideCylinders(position, r) == True):\n",
    "            counter += 1\n",
    "    return counter / N\n",
    "\n",
    "\n",
    "# Part 3\n",
    "N = 1000\n",
    "r = 1\n",
    "volume_approx = prob_inside_volume(N, r) * 8 * r**3\n",
    "\n",
    "volume_approx"
   ]
  },
  {
   "cell_type": "code",
   "execution_count": 70,
   "metadata": {},
   "outputs": [
    {
     "data": {
      "text/plain": [
       "5.333333333333333"
      ]
     },
     "execution_count": 70,
     "metadata": {},
     "output_type": "execute_result"
    }
   ],
   "source": [
    "16/3 * r**3"
   ]
  },
  {
   "cell_type": "code",
   "execution_count": null,
   "metadata": {},
   "outputs": [],
   "source": []
  }
 ],
 "metadata": {
  "kernelspec": {
   "display_name": "Python 3 (ipykernel)",
   "language": "python",
   "name": "python3"
  },
  "language_info": {
   "codemirror_mode": {
    "name": "ipython",
    "version": 3
   },
   "file_extension": ".py",
   "mimetype": "text/x-python",
   "name": "python",
   "nbconvert_exporter": "python",
   "pygments_lexer": "ipython3",
   "version": "3.11.3"
  }
 },
 "nbformat": 4,
 "nbformat_minor": 4
}
