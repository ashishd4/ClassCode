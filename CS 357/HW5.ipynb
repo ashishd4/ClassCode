{
 "cells": [
  {
   "cell_type": "code",
   "execution_count": 2,
   "id": "7f23882a",
   "metadata": {},
   "outputs": [],
   "source": [
    "import numpy as np\n",
    "\n",
    "# Floating Point Summation\n",
    "\n",
    "data = np.array([1, 2e6, 4, 7])\n",
    "\n",
    "data_sum = 0.0\n",
    "error = 0.0\n",
    "\n",
    "for i in data:\n",
    "    y = i - error\n",
    "    temp = data_sum + y\n",
    "    \n",
    "    error = (temp - data_sum) - y\n",
    "    data_sum = temp"
   ]
  },
  {
   "cell_type": "code",
   "execution_count": null,
   "id": "0d1a0556",
   "metadata": {},
   "outputs": [],
   "source": []
  }
 ],
 "metadata": {
  "kernelspec": {
   "display_name": "Python 3 (ipykernel)",
   "language": "python",
   "name": "python3"
  },
  "language_info": {
   "codemirror_mode": {
    "name": "ipython",
    "version": 3
   },
   "file_extension": ".py",
   "mimetype": "text/x-python",
   "name": "python",
   "nbconvert_exporter": "python",
   "pygments_lexer": "ipython3",
   "version": "3.11.3"
  }
 },
 "nbformat": 4,
 "nbformat_minor": 5
}
