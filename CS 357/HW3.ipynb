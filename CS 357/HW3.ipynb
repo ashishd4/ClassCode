{
 "cells": [
  {
   "cell_type": "code",
   "execution_count": 8,
   "id": "91a0b472",
   "metadata": {},
   "outputs": [
    {
     "data": {
      "text/plain": [
       "0.05263157894736842"
      ]
     },
     "execution_count": 8,
     "metadata": {},
     "output_type": "execute_result"
    }
   ],
   "source": [
    "import numpy as np\n",
    "\n",
    "n = 4\n",
    "\n",
    "predicted = np.array([80, 90, 70, 100])\n",
    "actual = np.array([81, 95, 68, 103])\n",
    "\n",
    "relative_errors = []\n",
    "\n",
    "for i in range(n):\n",
    "    relative_errors.append(abs((predicted[i] - actual[i]) / actual[i]))\n",
    "\n",
    "max_rel_error = max(relative_errors)\n",
    "\n",
    "max_rel_error"
   ]
  },
  {
   "cell_type": "code",
   "execution_count": null,
   "id": "02098735",
   "metadata": {},
   "outputs": [],
   "source": []
  }
 ],
 "metadata": {
  "kernelspec": {
   "display_name": "Python 3 (ipykernel)",
   "language": "python",
   "name": "python3"
  },
  "language_info": {
   "codemirror_mode": {
    "name": "ipython",
    "version": 3
   },
   "file_extension": ".py",
   "mimetype": "text/x-python",
   "name": "python",
   "nbconvert_exporter": "python",
   "pygments_lexer": "ipython3",
   "version": "3.11.3"
  }
 },
 "nbformat": 4,
 "nbformat_minor": 5
}
