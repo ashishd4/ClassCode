{
 "cells": [
  {
   "cell_type": "code",
   "execution_count": 2,
   "id": "dcd257bf",
   "metadata": {},
   "outputs": [],
   "source": [
    "import numpy as np\n",
    "import numpy.linalg as la"
   ]
  },
  {
   "cell_type": "code",
   "execution_count": 3,
   "id": "dcd7060c",
   "metadata": {},
   "outputs": [
    {
     "name": "stdout",
     "output_type": "stream",
     "text": [
      "True\n",
      "True\n",
      "True\n",
      "False\n",
      "False\n",
      "True\n"
     ]
    }
   ],
   "source": [
    "# 2.2\n",
    "\n",
    "A = [1,2,3,4]\n",
    "B = A\n",
    "C = A\n",
    "\n",
    "B.append(5)\n",
    "C = C + [6]\n",
    "B.append(6)\n",
    "\n",
    "print(B == C)\n",
    "print(A == C)\n",
    "print(A is B)\n",
    "print(B is C)\n",
    "print(A is C)\n",
    "print(A == B)"
   ]
  },
  {
   "cell_type": "code",
   "execution_count": 4,
   "id": "beec8fe3",
   "metadata": {},
   "outputs": [
    {
     "name": "stdout",
     "output_type": "stream",
     "text": [
      "0\n",
      "2\n",
      "1\n",
      "3\n",
      "2\n",
      "4\n",
      "3\n",
      "5\n",
      "4\n",
      "6\n"
     ]
    }
   ],
   "source": [
    "# 2.5\n",
    "\n",
    "i = 0\n",
    "while i < 5:\n",
    "    print(i)\n",
    "    i+=1\n",
    "    print(i+1)"
   ]
  },
  {
   "cell_type": "code",
   "execution_count": 5,
   "id": "d687d36b",
   "metadata": {},
   "outputs": [
    {
     "name": "stdout",
     "output_type": "stream",
     "text": [
      "[1, 2, 3, 4, 5] [1, 2, 3, 4, 5, 5]\n"
     ]
    }
   ],
   "source": [
    "# 2.6\n",
    "\n",
    "a = [1, 2, 3, 4]\n",
    "b = a\n",
    "a.append(5)\n",
    "# HERE\n",
    "a = b.copy()\n",
    "b.append(5)\n",
    "print(a, b)"
   ]
  },
  {
   "cell_type": "code",
   "execution_count": 6,
   "id": "e6251ab0",
   "metadata": {},
   "outputs": [
    {
     "data": {
      "text/plain": [
       "[2, 3, 4, 5, 7, 8, 9, 10]"
      ]
     },
     "execution_count": 6,
     "metadata": {},
     "output_type": "execute_result"
    }
   ],
   "source": [
    "A = [2, 3, 4, 5, 6, 7, 8, 9, 10]\n",
    "A.pop(4)\n",
    "A"
   ]
  },
  {
   "cell_type": "code",
   "execution_count": 7,
   "id": "0a01e794",
   "metadata": {},
   "outputs": [
    {
     "data": {
      "text/plain": [
       "6.0"
      ]
     },
     "execution_count": 7,
     "metadata": {},
     "output_type": "execute_result"
    }
   ],
   "source": [
    "B  = np.mean(A)\n",
    "B"
   ]
  },
  {
   "cell_type": "code",
   "execution_count": 13,
   "id": "c9cf9f20",
   "metadata": {},
   "outputs": [
    {
     "name": "stdout",
     "output_type": "stream",
     "text": [
      "[('#illini', 2), ('#illini?', 1), ('#illinifriday!', 1), ('#jointhefight', 1)]\n"
     ]
    }
   ],
   "source": [
    "#2.12 - Counting Hashtags\n",
    "\n",
    "tweets = [\"Happy #IlliniFriday!\",\n",
    "  \"It is a pretty campus, isn't it, #illini?\",\n",
    "  \"Diving into the last weekend of winter break like... #ILLINI #JoinTheFight\",\n",
    "  \"Are you wearing your Orange and Blue today, #Illini Nation?\"]\n",
    "\n",
    "def count_hashtags(tweets):\n",
    "    hashtag_counts = {}\n",
    "\n",
    "    for tweet in tweets:\n",
    "        words = tweet.split()\n",
    "        for word in words:\n",
    "            if word.lower().startswith(\"#\"):\n",
    "                hashtag = word.lower()\n",
    "                if hashtag in hashtag_counts:\n",
    "                    hashtag_counts[hashtag] += 1\n",
    "                else:\n",
    "                    hashtag_counts[hashtag] = 1\n",
    "    \n",
    "    sorted_counts = sorted(hashtag_counts.items(), key=lambda x: (-x[1], x[0]))\n",
    "    return sorted_counts\n",
    "\n",
    "tweets = [\"Happy #IlliniFriday!\",\n",
    "          \"It is a pretty campus, isn't it, #illini?\",\n",
    "          \"Diving into the last weekend of winter break like... #ILLINI #JoinTheFight\",\n",
    "          \"Are you wearing your Orange and Blue today, #Illini Nation?\"]\n",
    "\n",
    "hashtag_counts = count_hashtags(tweets)\n",
    "print(hashtag_counts)"
   ]
  },
  {
   "cell_type": "code",
   "execution_count": 32,
   "id": "7729fbb5",
   "metadata": {},
   "outputs": [],
   "source": [
    "def list_sort(nums):\n",
    "    nums_copy = []\n",
    "    \n",
    "    for i in range(len(nums)):\n",
    "        nums_copy.append(nums[i])\n",
    "        \n",
    "    new_nums = []\n",
    "    for i in range(len(nums)):\n",
    "        new_nums.append(min(nums_copy))\n",
    "        nums_copy.remove(min(nums_copy))\n",
    "    \n",
    "    for i in range(len(nums)):\n",
    "        nums[i] = new_nums[i]\n",
    "    pass"
   ]
  },
  {
   "cell_type": "code",
   "execution_count": 33,
   "id": "ab4e2d8b",
   "metadata": {},
   "outputs": [
    {
     "name": "stdout",
     "output_type": "stream",
     "text": [
      "old test:  [5, 3, 4, 2, 1]\n",
      "new test:  [1, 2, 3, 4, 5]\n"
     ]
    }
   ],
   "source": [
    "test = [5, 3, 4, 2, 1]\n",
    "\n",
    "print('old test: ', test)\n",
    "\n",
    "list_sort(test)\n",
    "\n",
    "print('new test: ', test)"
   ]
  },
  {
   "cell_type": "code",
   "execution_count": null,
   "id": "8eddc96f",
   "metadata": {},
   "outputs": [],
   "source": []
  }
 ],
 "metadata": {
  "kernelspec": {
   "display_name": "Python 3 (ipykernel)",
   "language": "python",
   "name": "python3"
  },
  "language_info": {
   "codemirror_mode": {
    "name": "ipython",
    "version": 3
   },
   "file_extension": ".py",
   "mimetype": "text/x-python",
   "name": "python",
   "nbconvert_exporter": "python",
   "pygments_lexer": "ipython3",
   "version": "3.11.3"
  }
 },
 "nbformat": 4,
 "nbformat_minor": 5
}
