{
 "cells": [
  {
   "cell_type": "code",
   "execution_count": 1,
   "id": "02b87fc4",
   "metadata": {},
   "outputs": [],
   "source": [
    "import numpy as np"
   ]
  },
  {
   "cell_type": "markdown",
   "id": "5bc9e1b1",
   "metadata": {},
   "source": [
    "# 1.2"
   ]
  },
  {
   "cell_type": "code",
   "execution_count": 70,
   "id": "143f2354",
   "metadata": {},
   "outputs": [],
   "source": [
    "starting_hand = ['Ad', '3c']\n",
    "\n",
    "def cardNameToInt(card):\n",
    "    value = 0\n",
    "    \n",
    "    rank = card[0]\n",
    "    suit = card[1]\n",
    "    \n",
    "    if (rank.isalpha()):\n",
    "        if (rank == 'T'):\n",
    "            value += 10\n",
    "        elif (rank == 'J'):\n",
    "            value += 11\n",
    "        elif (rank == 'Q'):\n",
    "            value += 12\n",
    "        elif (rank == 'K'):\n",
    "            value += 13\n",
    "        elif (rank == 'A'):\n",
    "            value += 14\n",
    "    else:\n",
    "        value += int(rank)\n",
    "       \n",
    "    value -= 2\n",
    "    value *= 4\n",
    "    \n",
    "    if (suit == 'd'):\n",
    "        value += 1\n",
    "    elif (suit == 'h'):\n",
    "        value += 2\n",
    "    elif (suit == 's'):\n",
    "        value += 3\n",
    "    \n",
    "    return value\n",
    "\n",
    "start_cards = np.array([cardNameToInt(starting_hand[0]), \n",
    "                        cardNameToInt(starting_hand[1])])"
   ]
  },
  {
   "cell_type": "markdown",
   "id": "59b636d9",
   "metadata": {},
   "source": [
    "# 1.3"
   ]
  },
  {
   "cell_type": "code",
   "execution_count": 45,
   "id": "3c6eb093",
   "metadata": {},
   "outputs": [],
   "source": [
    "def generatePlayersCards(n_players, available_deck):\n",
    "    players_cards = []\n",
    "    updated_card_deck = available_deck\n",
    "    \n",
    "    for i in range(n_players):\n",
    "        index_one = np.random.randint(0, len(updated_card_deck) - 1)\n",
    "        card_one = updated_card_deck[index_one]\n",
    "        updated_card_deck = np.delete(updated_card_deck, index_one)\n",
    "        \n",
    "        index_two = np.random.randint(0, len(updated_card_deck) - 1)\n",
    "        while (index_one == index_two):\n",
    "            index_two = np.random.randint(0, len(available_deck) - 1)\n",
    "        card_two = updated_card_deck[index_two]\n",
    "        updated_card_deck = np.delete(updated_card_deck, index_two)\n",
    "        \n",
    "        players_cards.append([card_one, card_two])\n",
    "\n",
    "    players_cards = np.array(players_cards)\n",
    "    return(players_cards, updated_card_deck)"
   ]
  },
  {
   "cell_type": "code",
   "execution_count": 50,
   "id": "fcf74590",
   "metadata": {},
   "outputs": [],
   "source": [
    "def generateDealerCards(available_deck):\n",
    "    dealer_cards = []\n",
    "    updated_card_deck = available_deck\n",
    "    \n",
    "    for i in range(5):\n",
    "        index = np.random.randint(0, len(updated_card_deck) - 1)\n",
    "        dealer_cards.append(updated_card_deck[index])\n",
    "        updated_card_deck = np.delete(updated_card_deck, index)\n",
    "\n",
    "    dealer_cards = np.array(dealer_cards)\n",
    "    return(dealer_cards, updated_card_deck)"
   ]
  },
  {
   "cell_type": "markdown",
   "id": "1849e769",
   "metadata": {},
   "source": [
    "# 1.4"
   ]
  },
  {
   "cell_type": "code",
   "execution_count": 55,
   "id": "4c637f44",
   "metadata": {},
   "outputs": [],
   "source": [
    "def whoWin(start_cards, players_cards, dealer_cards):\n",
    "    game_result = np.array([1, 0, 0])\n",
    "    for i in range(len(players_cards)):\n",
    "        result = compareTwoPlayers(start_cards, players_cards[i], dealer_cards)\n",
    "        if (result == 1):\n",
    "            game_result = np.array([0, 1, 0])\n",
    "            return game_result\n",
    "        elif (result == 2):\n",
    "            game_result = np.array([0, 0, 1])\n",
    "        \n",
    "    return game_result\n",
    "\n",
    "start_cards = np.array([cardNameToInt(starting_hand[0]), \n",
    "                        cardNameToInt(starting_hand[1])])\n",
    "\n",
    "game_result = whoWin(start_cards, players_cards, dealer_cards)"
   ]
  },
  {
   "cell_type": "markdown",
   "id": "904336c5",
   "metadata": {},
   "source": [
    "# 1.5"
   ]
  },
  {
   "cell_type": "code",
   "execution_count": 78,
   "id": "42611d1c",
   "metadata": {},
   "outputs": [
    {
     "ename": "NameError",
     "evalue": "name 'compareTwoPlayers' is not defined",
     "output_type": "error",
     "traceback": [
      "\u001b[1;31m---------------------------------------------------------------------------\u001b[0m",
      "\u001b[1;31mNameError\u001b[0m                                 Traceback (most recent call last)",
      "Cell \u001b[1;32mIn[78], line 16\u001b[0m\n\u001b[0;32m     14\u001b[0m players_cards, updated_card_deck \u001b[38;5;241m=\u001b[39m generatePlayersCards(n_players, initial_card_deck)\n\u001b[0;32m     15\u001b[0m dealer_cards, updated_card_deck \u001b[38;5;241m=\u001b[39m generateDealerCards(updated_card_deck)\n\u001b[1;32m---> 16\u001b[0m results \u001b[38;5;241m+\u001b[39m\u001b[38;5;241m=\u001b[39m whoWin(start_cards, players_cards, dealer_cards)\n",
      "Cell \u001b[1;32mIn[55], line 4\u001b[0m, in \u001b[0;36mwhoWin\u001b[1;34m(start_cards, players_cards, dealer_cards)\u001b[0m\n\u001b[0;32m      2\u001b[0m game_result \u001b[38;5;241m=\u001b[39m np\u001b[38;5;241m.\u001b[39marray([\u001b[38;5;241m1\u001b[39m, \u001b[38;5;241m0\u001b[39m, \u001b[38;5;241m0\u001b[39m])\n\u001b[0;32m      3\u001b[0m \u001b[38;5;28;01mfor\u001b[39;00m i \u001b[38;5;129;01min\u001b[39;00m \u001b[38;5;28mrange\u001b[39m(\u001b[38;5;28mlen\u001b[39m(players_cards)):\n\u001b[1;32m----> 4\u001b[0m     result \u001b[38;5;241m=\u001b[39m compareTwoPlayers(start_cards, players_cards[i])\n\u001b[0;32m      5\u001b[0m     \u001b[38;5;28;01mif\u001b[39;00m (result \u001b[38;5;241m==\u001b[39m \u001b[38;5;241m1\u001b[39m):\n\u001b[0;32m      6\u001b[0m         game_result \u001b[38;5;241m=\u001b[39m np\u001b[38;5;241m.\u001b[39marray([\u001b[38;5;241m0\u001b[39m, \u001b[38;5;241m1\u001b[39m, \u001b[38;5;241m0\u001b[39m])\n",
      "\u001b[1;31mNameError\u001b[0m: name 'compareTwoPlayers' is not defined"
     ]
    }
   ],
   "source": [
    "def whoWin(start_cards, players_cards, dealer_cards):\n",
    "    game_result = np.array([1, 0, 0])\n",
    "    for i in range(len(players_cards)):\n",
    "        result = compareTwoPlayers(start_cards, players_cards[i], dealer_cards)\n",
    "        if (result == 1):\n",
    "            game_result = np.array([0, 1, 0])\n",
    "            return game_result\n",
    "        elif (result == 2):\n",
    "            game_result = np.array([0, 0, 1])\n",
    "        \n",
    "    return game_result\n",
    "\n",
    "initial_card_deck = np.arange(0, 52)\n",
    "\n",
    "start_cards = np.array([cardNameToInt(starting_hand[0]), \n",
    "                        cardNameToInt(starting_hand[1])])\n",
    "\n",
    "initial_card_deck = np.delete(initial_card_deck, cardNameToInt(starting_hand[0]))\n",
    "if (cardNameToInt(starting_hand[0]) > cardNameToInt(starting_hand[1])):\n",
    "    initial_card_deck = np.delete(initial_card_deck, cardNameToInt(starting_hand[1]))\n",
    "else:\n",
    "    initial_card_deck = np.delete(initial_card_deck, cardNameToInt(starting_hand[1]) - 1)\n",
    "\n",
    "results = np.zeros(3)\n",
    "for i in range(N):\n",
    "    players_cards, updated_card_deck = generatePlayersCards(n_players, initial_card_deck)\n",
    "    dealer_cards, updated_card_deck = generateDealerCards(updated_card_deck)\n",
    "    results += whoWin(start_cards, players_cards, dealer_cards)\n",
    "\n",
    "win_probability = results[0] / N\n",
    "lose_probability = results[1] / N\n",
    "tie_probability = results[2] / N"
   ]
  },
  {
   "cell_type": "markdown",
   "id": "a8eb4316",
   "metadata": {},
   "source": [
    "# 1.6"
   ]
  },
  {
   "cell_type": "code",
   "execution_count": 80,
   "id": "0a92938d",
   "metadata": {},
   "outputs": [],
   "source": [
    "def monteCarloSimulation(M, N, n_players, starting_hand):\n",
    "    win_prob = np.zeros(M)\n",
    "    \n",
    "    initial_card_deck = np.arange(0, 52)\n",
    "\n",
    "    start_cards = np.array([cardNameToInt(starting_hand[0]), \n",
    "                            cardNameToInt(starting_hand[1])])\n",
    "\n",
    "    initial_card_deck = np.delete(initial_card_deck, cardNameToInt(starting_hand[0]))\n",
    "    if (cardNameToInt(starting_hand[0]) > cardNameToInt(starting_hand[1])):\n",
    "        initial_card_deck = np.delete(initial_card_deck, cardNameToInt(starting_hand[1]))\n",
    "    else:\n",
    "        initial_card_deck = np.delete(initial_card_deck, cardNameToInt(starting_hand[1]) - 1)\n",
    "    \n",
    "    for j in range(M):\n",
    "        results = np.zeros(3)\n",
    "        for i in range(N):\n",
    "            players_cards, updated_card_deck = generatePlayersCards(n_players, initial_card_deck)\n",
    "            dealer_cards, updated_card_deck = generateDealerCards(updated_card_deck)\n",
    "            results += whoWin(start_cards, players_cards, dealer_cards)\n",
    "\n",
    "        win_prob[j] = results[0] / N\n",
    "\n",
    "    return win_prob"
   ]
  },
  {
   "cell_type": "markdown",
   "id": "69a0ec09",
   "metadata": {},
   "source": [
    "# 1.7"
   ]
  },
  {
   "cell_type": "code",
   "execution_count": 84,
   "id": "d7b8a416",
   "metadata": {},
   "outputs": [
    {
     "ename": "NameError",
     "evalue": "name 'compareTwoPlayers' is not defined",
     "output_type": "error",
     "traceback": [
      "\u001b[1;31m---------------------------------------------------------------------------\u001b[0m",
      "\u001b[1;31mNameError\u001b[0m                                 Traceback (most recent call last)",
      "Cell \u001b[1;32mIn[84], line 1\u001b[0m\n\u001b[1;32m----> 1\u001b[0m win_prob_20 \u001b[38;5;241m=\u001b[39m monteCarloSimulation(\u001b[38;5;241m100\u001b[39m, \u001b[38;5;241m20\u001b[39m, \u001b[38;5;241m1\u001b[39m, starting_hand)\n\u001b[0;32m      2\u001b[0m win_prob_50 \u001b[38;5;241m=\u001b[39m monteCarloSimulation(\u001b[38;5;241m100\u001b[39m, \u001b[38;5;241m50\u001b[39m, \u001b[38;5;241m1\u001b[39m, starting_hand)\n\u001b[0;32m      4\u001b[0m mean_20 \u001b[38;5;241m=\u001b[39m np\u001b[38;5;241m.\u001b[39mmean(win_prob_20)\n",
      "Cell \u001b[1;32mIn[80], line 20\u001b[0m, in \u001b[0;36mmonteCarloSimulation\u001b[1;34m(M, N, n_players, starting_hand)\u001b[0m\n\u001b[0;32m     18\u001b[0m         players_cards, updated_card_deck \u001b[38;5;241m=\u001b[39m generatePlayersCards(n_players, initial_card_deck)\n\u001b[0;32m     19\u001b[0m         dealer_cards, updated_card_deck \u001b[38;5;241m=\u001b[39m generateDealerCards(updated_card_deck)\n\u001b[1;32m---> 20\u001b[0m         results \u001b[38;5;241m+\u001b[39m\u001b[38;5;241m=\u001b[39m whoWin(start_cards, players_cards, dealer_cards)\n\u001b[0;32m     22\u001b[0m     win_prob[j] \u001b[38;5;241m=\u001b[39m results[\u001b[38;5;241m0\u001b[39m] \u001b[38;5;241m/\u001b[39m N\n\u001b[0;32m     24\u001b[0m \u001b[38;5;28;01mreturn\u001b[39;00m win_prob\n",
      "Cell \u001b[1;32mIn[55], line 4\u001b[0m, in \u001b[0;36mwhoWin\u001b[1;34m(start_cards, players_cards, dealer_cards)\u001b[0m\n\u001b[0;32m      2\u001b[0m game_result \u001b[38;5;241m=\u001b[39m np\u001b[38;5;241m.\u001b[39marray([\u001b[38;5;241m1\u001b[39m, \u001b[38;5;241m0\u001b[39m, \u001b[38;5;241m0\u001b[39m])\n\u001b[0;32m      3\u001b[0m \u001b[38;5;28;01mfor\u001b[39;00m i \u001b[38;5;129;01min\u001b[39;00m \u001b[38;5;28mrange\u001b[39m(\u001b[38;5;28mlen\u001b[39m(players_cards)):\n\u001b[1;32m----> 4\u001b[0m     result \u001b[38;5;241m=\u001b[39m compareTwoPlayers(start_cards, players_cards[i])\n\u001b[0;32m      5\u001b[0m     \u001b[38;5;28;01mif\u001b[39;00m (result \u001b[38;5;241m==\u001b[39m \u001b[38;5;241m1\u001b[39m):\n\u001b[0;32m      6\u001b[0m         game_result \u001b[38;5;241m=\u001b[39m np\u001b[38;5;241m.\u001b[39marray([\u001b[38;5;241m0\u001b[39m, \u001b[38;5;241m1\u001b[39m, \u001b[38;5;241m0\u001b[39m])\n",
      "\u001b[1;31mNameError\u001b[0m: name 'compareTwoPlayers' is not defined"
     ]
    }
   ],
   "source": [
    "win_prob_20 = monteCarloSimulation(100, 20, 1, starting_hand)\n",
    "win_prob_50 = monteCarloSimulation(100, 50, 1, starting_hand)\n",
    "\n",
    "mean_20 = np.mean(win_prob_20)\n",
    "mean_50 = np.mean(win_prob_50)\n",
    "std_20 = np.std(win_prob_20)\n",
    "std_50 = np.std(win_prob_50)\n",
    "\n",
    "plt.hist(win_prob_20,alpha=0.5, label='20 games')\n",
    "plt.hist(win_prob_50,alpha=0.5, label='50 games')\n",
    "plt.title('Starting hand ' + str(starting_hand))\n",
    "plt.legend(loc='upper left')\n",
    "plt.xlabel('Probability of winning')\n",
    "plt.ylabel('# of occurances')\n",
    "plt.show()"
   ]
  },
  {
   "cell_type": "code",
   "execution_count": null,
   "id": "0515c173",
   "metadata": {},
   "outputs": [],
   "source": []
  }
 ],
 "metadata": {
  "kernelspec": {
   "display_name": "Python 3 (ipykernel)",
   "language": "python",
   "name": "python3"
  },
  "language_info": {
   "codemirror_mode": {
    "name": "ipython",
    "version": 3
   },
   "file_extension": ".py",
   "mimetype": "text/x-python",
   "name": "python",
   "nbconvert_exporter": "python",
   "pygments_lexer": "ipython3",
   "version": "3.11.3"
  }
 },
 "nbformat": 4,
 "nbformat_minor": 5
}
