{
 "cells": [
  {
   "cell_type": "markdown",
   "id": "8ec13c3b",
   "metadata": {},
   "source": [
    "# Question 4a"
   ]
  },
  {
   "cell_type": "code",
   "execution_count": 2,
   "id": "14e3c7df",
   "metadata": {},
   "outputs": [
    {
     "ename": "TypeError",
     "evalue": "'int' object is not subscriptable",
     "output_type": "error",
     "traceback": [
      "\u001b[1;31m---------------------------------------------------------------------------\u001b[0m",
      "\u001b[1;31mTypeError\u001b[0m                                 Traceback (most recent call last)",
      "Cell \u001b[1;32mIn[2], line 8\u001b[0m\n\u001b[0;32m      5\u001b[0m outputs \u001b[38;5;241m=\u001b[39m []\n\u001b[0;32m      7\u001b[0m \u001b[38;5;28;01mfor\u001b[39;00m i \u001b[38;5;129;01min\u001b[39;00m \u001b[38;5;28mrange\u001b[39m(\u001b[38;5;28mlen\u001b[39m(minifloats)):\n\u001b[1;32m----> 8\u001b[0m     exponent_field \u001b[38;5;241m=\u001b[39m \u001b[38;5;241m8\u001b[39m\u001b[38;5;241m*\u001b[39mminifloats[i][\u001b[38;5;241m1\u001b[39m] \u001b[38;5;241m+\u001b[39m \u001b[38;5;241m4\u001b[39m\u001b[38;5;241m*\u001b[39mminifloats[i][\u001b[38;5;241m2\u001b[39m] \u001b[38;5;241m+\u001b[39m \u001b[38;5;241m2\u001b[39m\u001b[38;5;241m*\u001b[39mminifloats[i][\u001b[38;5;241m3\u001b[39m] \u001b[38;5;241m+\u001b[39m minifloats[i][\u001b[38;5;241m4\u001b[39m] \u001b[38;5;241m-\u001b[39m \u001b[38;5;241m8\u001b[39m\n\u001b[0;32m      9\u001b[0m     significand \u001b[38;5;241m=\u001b[39m \u001b[38;5;241m1\u001b[39m \u001b[38;5;241m+\u001b[39m \u001b[38;5;241m0.5\u001b[39m\u001b[38;5;241m*\u001b[39mminifloats[i][\u001b[38;5;241m5\u001b[39m] \u001b[38;5;241m+\u001b[39m \u001b[38;5;241m0.25\u001b[39m\u001b[38;5;241m*\u001b[39mminifloats[i][\u001b[38;5;241m6\u001b[39m] \u001b[38;5;241m+\u001b[39m \u001b[38;5;241m0.125\u001b[39m\u001b[38;5;241m*\u001b[39mminifloats[i][\u001b[38;5;241m7\u001b[39m]\n\u001b[0;32m     10\u001b[0m     outputs\u001b[38;5;241m.\u001b[39mappend((\u001b[38;5;241m-\u001b[39m\u001b[38;5;241m1\u001b[39m)\u001b[38;5;241m*\u001b[39m\u001b[38;5;241m*\u001b[39mminifloats[i][\u001b[38;5;241m0\u001b[39m] \u001b[38;5;241m*\u001b[39m \u001b[38;5;241m2\u001b[39m\u001b[38;5;241m*\u001b[39m\u001b[38;5;241m*\u001b[39mexponent_field \u001b[38;5;241m*\u001b[39m significand)\n",
      "\u001b[1;31mTypeError\u001b[0m: 'int' object is not subscriptable"
     ]
    }
   ],
   "source": [
    "# Decoding a floating point number\n",
    "\n",
    "outputs = []\n",
    "\n",
    "for i in range(len(minifloats)):\n",
    "    exponent_field = 8*minifloats[i][1] + 4*minifloats[i][2] + 2*minifloats[i][3] + minifloats[i][4] - 8\n",
    "    significand = 1 + 0.5*minifloats[i][5] + 0.25*minifloats[i][6] + 0.125*minifloats[i][7]\n",
    "    outputs.append((-1)**minifloats[i][0] * 2**exponent_field * significand)"
   ]
  },
  {
   "cell_type": "markdown",
   "id": "3a07968f",
   "metadata": {},
   "source": [
    "# Question 4b"
   ]
  },
  {
   "cell_type": "code",
   "execution_count": 2,
   "id": "ec8ce07c",
   "metadata": {},
   "outputs": [],
   "source": [
    "# Convert Decimal Number To Floating Point Number\n",
    "\n",
    "def decimal_to_floating_point(x, n, p):\n",
    "    m_test = p\n",
    "    \n",
    "    while (2**m_test > x):\n",
    "        m_test -= 1\n",
    "    m = m_test\n",
    "    dummy = x - 2**m\n",
    "    \n",
    "    f = ''\n",
    "    m_test -= 1\n",
    "    \n",
    "    for i in range(n):\n",
    "        if (2**m_test > dummy):\n",
    "            f = f + str('0')\n",
    "        else:\n",
    "            f = f + str('1')\n",
    "            dummy -= 2**m_test\n",
    "        m_test -= 1\n",
    "    \n",
    "    return f, m"
   ]
  },
  {
   "cell_type": "code",
   "execution_count": null,
   "id": "d27cd9da",
   "metadata": {},
   "outputs": [],
   "source": []
  }
 ],
 "metadata": {
  "kernelspec": {
   "display_name": "Python 3 (ipykernel)",
   "language": "python",
   "name": "python3"
  },
  "language_info": {
   "codemirror_mode": {
    "name": "ipython",
    "version": 3
   },
   "file_extension": ".py",
   "mimetype": "text/x-python",
   "name": "python",
   "nbconvert_exporter": "python",
   "pygments_lexer": "ipython3",
   "version": "3.11.3"
  }
 },
 "nbformat": 4,
 "nbformat_minor": 5
}
