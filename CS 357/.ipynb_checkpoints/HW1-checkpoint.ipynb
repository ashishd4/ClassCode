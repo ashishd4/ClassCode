{
 "cells": [
  {
   "cell_type": "code",
   "execution_count": 13,
   "id": "c319c911",
   "metadata": {},
   "outputs": [],
   "source": [
    "import numpy as np\n",
    "import numpy.linalg as la"
   ]
  },
  {
   "cell_type": "code",
   "execution_count": 10,
   "id": "d357438a",
   "metadata": {},
   "outputs": [
    {
     "data": {
      "text/plain": [
       "array([[ 14,  20,  24],\n",
       "       [ 20,  80,  56],\n",
       "       [ 24,  56, 108]])"
      ]
     },
     "execution_count": 10,
     "metadata": {},
     "output_type": "execute_result"
    }
   ],
   "source": [
    "A = np.array([[1, 2, 3],\n",
    "              [2, 5, 4],\n",
    "              [3, 4, 6]])\n",
    "B = np.array([[7, 5, 4],\n",
    "              [5, 8, 7],\n",
    "              [4, 7, 9]])\n",
    "\n",
    "A * B + B * A"
   ]
  },
  {
   "cell_type": "code",
   "execution_count": 15,
   "id": "70a233c9",
   "metadata": {},
   "outputs": [
    {
     "data": {
      "text/plain": [
       "array([16.00104586, 63.99895414])"
      ]
     },
     "execution_count": 15,
     "metadata": {},
     "output_type": "execute_result"
    }
   ],
   "source": [
    "A = np.array([[34.13, 23.27],\n",
    "              [23.27, 45.87]])\n",
    "\n",
    "vals = la.eigvals(A)\n",
    "\n",
    "vals"
   ]
  },
  {
   "cell_type": "code",
   "execution_count": 16,
   "id": "b4451bd3",
   "metadata": {},
   "outputs": [
    {
     "data": {
      "text/plain": [
       "array([[0.07142857, 0.        ],\n",
       "       [0.        , 0.09090909]])"
      ]
     },
     "execution_count": 16,
     "metadata": {},
     "output_type": "execute_result"
    }
   ],
   "source": [
    "A = np.array([[14, 0],\n",
    "              [0, 11]])\n",
    "\n",
    "inverse = la.inv(A)\n",
    "\n",
    "inverse"
   ]
  },
  {
   "cell_type": "code",
   "execution_count": null,
   "id": "32f5b556",
   "metadata": {},
   "outputs": [],
   "source": []
  }
 ],
 "metadata": {
  "kernelspec": {
   "display_name": "Python 3 (ipykernel)",
   "language": "python",
   "name": "python3"
  },
  "language_info": {
   "codemirror_mode": {
    "name": "ipython",
    "version": 3
   },
   "file_extension": ".py",
   "mimetype": "text/x-python",
   "name": "python",
   "nbconvert_exporter": "python",
   "pygments_lexer": "ipython3",
   "version": "3.11.3"
  }
 },
 "nbformat": 4,
 "nbformat_minor": 5
}
