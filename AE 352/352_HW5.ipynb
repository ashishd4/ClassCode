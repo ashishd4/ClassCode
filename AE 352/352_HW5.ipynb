{
 "cells": [
  {
   "cell_type": "code",
   "execution_count": 1,
   "id": "loved-republican",
   "metadata": {},
   "outputs": [],
   "source": [
    "from sympy import *\n",
    "import numpy as np"
   ]
  },
  {
   "cell_type": "code",
   "execution_count": 24,
   "id": "grave-floating",
   "metadata": {},
   "outputs": [
    {
     "data": {
      "text/latex": [
       "$\\displaystyle k^{2} t_{dot}^{2} + k_{dot}^{2}$"
      ],
      "text/plain": [
       "k**2*t_dot**2 + k_dot**2"
      ]
     },
     "execution_count": 24,
     "metadata": {},
     "output_type": "execute_result"
    }
   ],
   "source": [
    "l, t, p, t_dot, p_dot = symbols('l, t, p, t_dot, p_dot')\n",
    "k, k_dot = symbols('k, k_dot')\n",
    "\n",
    "x_dot = k*t_dot*cos(t) + k_dot*sin(t)\n",
    "y_dot = -k_dot*cos(t) + k*t_dot*sin(t)\n",
    "# z_dot = -l*p_dot*sin(p)\n",
    "\n",
    "simplify(x_dot**2 + y_dot**2)"
   ]
  },
  {
   "cell_type": "code",
   "execution_count": null,
   "id": "proud-advertiser",
   "metadata": {},
   "outputs": [],
   "source": []
  }
 ],
 "metadata": {
  "kernelspec": {
   "display_name": "Python 3",
   "language": "python",
   "name": "python3"
  },
  "language_info": {
   "codemirror_mode": {
    "name": "ipython",
    "version": 3
   },
   "file_extension": ".py",
   "mimetype": "text/x-python",
   "name": "python",
   "nbconvert_exporter": "python",
   "pygments_lexer": "ipython3",
   "version": "3.8.6"
  }
 },
 "nbformat": 4,
 "nbformat_minor": 5
}
