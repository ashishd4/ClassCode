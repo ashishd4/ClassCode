{
 "cells": [
  {
   "cell_type": "code",
   "execution_count": 1,
   "id": "extreme-valuation",
   "metadata": {},
   "outputs": [],
   "source": [
    "from sympy import *\n",
    "import numpy as np"
   ]
  },
  {
   "cell_type": "code",
   "execution_count": 24,
   "id": "bridal-factor",
   "metadata": {},
   "outputs": [
    {
     "data": {
      "text/latex": [
       "$\\displaystyle \\left[\\begin{matrix}\\frac{2 t^{3} \\left(t^{4} + 2\\right)}{\\left(t^{4} + 1\\right)^{\\frac{3}{2}}}\\\\\\frac{t^{8} + 2 t^{4} + 2 t \\sqrt{t^{4} + 1} + 1}{t^{8} + 2 t^{4} + 1}\\\\0\\end{matrix}\\right]$"
      ],
      "text/plain": [
       "Matrix([\n",
       "[                         2*t**3*(t**4 + 2)/(t**4 + 1)**(3/2)],\n",
       "[(t**8 + 2*t**4 + 2*t*sqrt(t**4 + 1) + 1)/(t**8 + 2*t**4 + 1)],\n",
       "[                                                           0]])"
      ]
     },
     "execution_count": 24,
     "metadata": {},
     "output_type": "execute_result"
    }
   ],
   "source": [
    "# 1\n",
    "\n",
    "# Defining parameters\n",
    "t = symbols('t', real=True, positive=True)\n",
    "q = Matrix([t**2, t, 1])\n",
    "i_p = Matrix([t**2, 1, 0])\n",
    "j_p = Matrix([0, t, 0])\n",
    "k_p = Matrix([1, 0, 1])\n",
    "\n",
    "# Defining unit vectors for i, j, and k\n",
    "i_n = i_p/i_p.norm()\n",
    "j_n = j_p/j_p.norm()\n",
    "k_n = k_p/k_p.norm()\n",
    "\n",
    "# Defining B, the transformation matrix\n",
    "B = simplify(Matrix([i_n.T, j_n.T, k_n.T]).T)\n",
    "\n",
    "# q' = Bq\n",
    "q_p = B@q\n",
    "\n",
    "# ANSWERS!\n",
    "velocity = diff(q_p, t)\n",
    "accel = diff(velocity, t)\n",
    "\n",
    "simplify(velocity)"
   ]
  },
  {
   "cell_type": "code",
   "execution_count": 21,
   "id": "conventional-forwarding",
   "metadata": {},
   "outputs": [
    {
     "data": {
      "text/latex": [
       "$\\displaystyle \\left[\\begin{matrix}\\frac{2 t^{2} \\left(t^{8} + t^{4} + 6\\right)}{\\sqrt{t^{4} + 1} \\left(t^{8} + 2 t^{4} + 1\\right)}\\\\\\frac{2 \\left(1 - 5 t^{4}\\right)}{\\sqrt{t^{4} + 1} \\left(t^{8} + 2 t^{4} + 1\\right)}\\\\0\\end{matrix}\\right]$"
      ],
      "text/plain": [
       "Matrix([\n",
       "[2*t**2*(t**8 + t**4 + 6)/(sqrt(t**4 + 1)*(t**8 + 2*t**4 + 1))],\n",
       "[          2*(1 - 5*t**4)/(sqrt(t**4 + 1)*(t**8 + 2*t**4 + 1))],\n",
       "[                                                            0]])"
      ]
     },
     "execution_count": 21,
     "metadata": {},
     "output_type": "execute_result"
    }
   ],
   "source": [
    "simplify(accel)"
   ]
  },
  {
   "cell_type": "code",
   "execution_count": 35,
   "id": "potential-efficiency",
   "metadata": {},
   "outputs": [
    {
     "data": {
      "text/latex": [
       "$\\displaystyle \\left[\\begin{matrix}t \\cos{\\left(\\omega t \\right)} - \\sin{\\left(\\omega t \\right)}\\\\t \\sin{\\left(\\omega t \\right)} + \\cos{\\left(\\omega t \\right)}\\\\0\\end{matrix}\\right]$"
      ],
      "text/plain": [
       "Matrix([\n",
       "[t*cos(omega*t) - sin(omega*t)],\n",
       "[t*sin(omega*t) + cos(omega*t)],\n",
       "[                            0]])"
      ]
     },
     "execution_count": 35,
     "metadata": {},
     "output_type": "execute_result"
    }
   ],
   "source": [
    "# 2\n",
    "\n",
    "# Defining parameters\n",
    "t, omega = symbols('t, omega', real=True, positive=True)\n",
    "q = Matrix([t, 1, 0])\n",
    "i_p = Matrix([cos(omega*t), sin(omega*t), 0])\n",
    "j_p = Matrix([-sin(omega*t), cos(omega*t), 0])\n",
    "k_p = Matrix([0, 0, 0])\n",
    "\n",
    "# Defining unit vectors for i, j, and k\n",
    "i_n = i_p/i_p.norm()\n",
    "j_n = j_p/j_p.norm()\n",
    "k_n = k_p\n",
    "\n",
    "# Defining B, the transformation matrix\n",
    "B = simplify(Matrix([i_n.T, j_n.T, k_n.T]).T)\n",
    "\n",
    "# q' = Bq\n",
    "q_p = B@q\n",
    "\n",
    "# ANSWERS!\n",
    "velocity = diff(q_p, t)\n",
    "accel = diff(velocity, t)\n",
    "\n",
    "simplify(q_p)"
   ]
  },
  {
   "cell_type": "code",
   "execution_count": 31,
   "id": "representative-certification",
   "metadata": {},
   "outputs": [
    {
     "data": {
      "text/latex": [
       "$\\displaystyle \\left[\\begin{matrix}\\omega \\left(- \\omega t \\cos{\\left(\\omega t \\right)} + \\omega \\sin{\\left(\\omega t \\right)} - 2 \\sin{\\left(\\omega t \\right)}\\right)\\\\\\omega \\left(- \\omega t \\sin{\\left(\\omega t \\right)} - \\omega \\cos{\\left(\\omega t \\right)} + 2 \\cos{\\left(\\omega t \\right)}\\right)\\\\0\\end{matrix}\\right]$"
      ],
      "text/plain": [
       "Matrix([\n",
       "[omega*(-omega*t*cos(omega*t) + omega*sin(omega*t) - 2*sin(omega*t))],\n",
       "[omega*(-omega*t*sin(omega*t) - omega*cos(omega*t) + 2*cos(omega*t))],\n",
       "[                                                                  0]])"
      ]
     },
     "execution_count": 31,
     "metadata": {},
     "output_type": "execute_result"
    }
   ],
   "source": [
    "simplify(accel)"
   ]
  },
  {
   "cell_type": "code",
   "execution_count": 34,
   "id": "widespread-manner",
   "metadata": {},
   "outputs": [
    {
     "data": {
      "text/plain": [
       "Text(0, 0.5, 'Relative Height (in m)')"
      ]
     },
     "execution_count": 34,
     "metadata": {},
     "output_type": "execute_result"
    },
    {
     "data": {
      "image/png": "[encoded data removed]",
      "text/plain": [
       "<Figure size 432x288 with 1 Axes>"
      ]
     },
     "metadata": {
      "needs_background": "light"
     },
     "output_type": "display_data"
    }
   ],
   "source": [
    "# 3\n",
    "\n",
    "import matplotlib.pyplot as plt\n",
    "\n",
    "t = np.arange(0, 0.553, 0.05)\n",
    "g = 9.81 #m/s^2\n",
    "a = g\n",
    "y_0 = 1.5 #m\n",
    "v_y0 = 0 #m/s\n",
    "y_t = y_0 - v_y0*t - 0.5*a*t**2\n",
    "\n",
    "plt.plot(t, y_t)\n",
    "plt.title('Trajectory of the Ball')\n",
    "plt.xlabel('Time (in s)')\n",
    "plt.ylabel('Relative Height (in m)')"
   ]
  },
  {
   "cell_type": "code",
   "execution_count": null,
   "id": "metallic-lawrence",
   "metadata": {},
   "outputs": [],
   "source": []
  }
 ],
 "metadata": {
  "kernelspec": {
   "display_name": "Python 3",
   "language": "python",
   "name": "python3"
  },
  "language_info": {
   "codemirror_mode": {
    "name": "ipython",
    "version": 3
   },
   "file_extension": ".py",
   "mimetype": "text/x-python",
   "name": "python",
   "nbconvert_exporter": "python",
   "pygments_lexer": "ipython3",
   "version": "3.8.6"
  }
 },
 "nbformat": 4,
 "nbformat_minor": 5
}
