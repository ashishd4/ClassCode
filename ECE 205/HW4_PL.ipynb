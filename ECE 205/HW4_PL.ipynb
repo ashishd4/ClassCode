{
 "cells": [
  {
   "cell_type": "code",
   "execution_count": 1,
   "metadata": {},
   "outputs": [],
   "source": [
    "import numpy as np\n",
    "from sympy import *"
   ]
  },
  {
   "cell_type": "code",
   "execution_count": 3,
   "metadata": {},
   "outputs": [
    {
     "data": {
      "text/plain": [
       "{i1: 3/2, i2: 1/2}"
      ]
     },
     "execution_count": 3,
     "metadata": {},
     "output_type": "execute_result"
    }
   ],
   "source": [
    "i1, i2 = symbols('i1, i2')\n",
    "\n",
    "eq1 = Eq(i1, i2 + 1)\n",
    "eq2 = Eq(8, 4*i1 + 4*i2)\n",
    "\n",
    "soln = solve((eq1, eq2), (i1, i2))\n",
    "\n",
    "soln"
   ]
  },
  {
   "cell_type": "code",
   "execution_count": 10,
   "metadata": {},
   "outputs": [
    {
     "data": {
      "text/plain": [
       "{x: 12.2413793103448, y: 4.68965517241379, z: 4.86206896551724}"
      ]
     },
     "execution_count": 10,
     "metadata": {},
     "output_type": "execute_result"
    }
   ],
   "source": [
    "x, y, z = symbols('x, y, z')\n",
    "\n",
    "eq1 = Eq(0, (x - 35)/4 + 2 + (x - z)/2)\n",
    "eq2 = Eq(0, (y - z) - 1 + y/4)\n",
    "eq3 = Eq(0, (z - x)/2 + (z - y) + 0.75*y)\n",
    "\n",
    "soln = solve((eq1, eq2, eq3), (x, y, z))\n",
    "\n",
    "soln"
   ]
  },
  {
   "cell_type": "code",
   "execution_count": 8,
   "metadata": {},
   "outputs": [
    {
     "data": {
      "text/plain": [
       "[5.00000000000000]"
      ]
     },
     "execution_count": 8,
     "metadata": {},
     "output_type": "execute_result"
    }
   ],
   "source": [
    "eq1 = Eq(0, (x - 20)/4 + 2 + (x - 1.5)/2)\n",
    "\n",
    "soln = solve(eq1, x)\n",
    "\n",
    "soln"
   ]
  },
  {
   "cell_type": "code",
   "execution_count": 11,
   "metadata": {},
   "outputs": [
    {
     "data": {
      "text/plain": [
       "{Vx: 10, Va: 20}"
      ]
     },
     "execution_count": 11,
     "metadata": {},
     "output_type": "execute_result"
    }
   ],
   "source": [
    "Vx, Va = symbols('Vx, Va')\n",
    "\n",
    "eq1 = Eq(0, (Va - 35)/3 + Va/2 - Vx/2)\n",
    "eq2 = Eq(Va, 2*Vx)\n",
    "\n",
    "soln = solve((eq1, eq2), (Vx, Va))\n",
    "\n",
    "soln"
   ]
  },
  {
   "cell_type": "code",
   "execution_count": 13,
   "metadata": {},
   "outputs": [
    {
     "data": {
      "text/plain": [
       "[18]"
      ]
     },
     "execution_count": 13,
     "metadata": {},
     "output_type": "execute_result"
    }
   ],
   "source": [
    "eq1 = Eq(0, - x/2 + (x - 2)/4  - (x - 38)/4)\n",
    "\n",
    "soln = solve(eq1, x)\n",
    "\n",
    "soln"
   ]
  }
 ],
 "metadata": {
  "kernelspec": {
   "display_name": "Python 3",
   "language": "python",
   "name": "python3"
  },
  "language_info": {
   "codemirror_mode": {
    "name": "ipython",
    "version": 3
   },
   "file_extension": ".py",
   "mimetype": "text/x-python",
   "name": "python",
   "nbconvert_exporter": "python",
   "pygments_lexer": "ipython3",
   "version": "3.9.5"
  },
  "orig_nbformat": 4,
  "vscode": {
   "interpreter": {
    "hash": "2851521aa62a4285c6ee96814bc15cf3fe9023c0c97937948b166e316e807417"
   }
  }
 },
 "nbformat": 4,
 "nbformat_minor": 2
}
