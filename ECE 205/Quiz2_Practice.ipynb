{
 "cells": [
  {
   "cell_type": "code",
   "execution_count": 4,
   "metadata": {},
   "outputs": [],
   "source": [
    "import numpy as np\n",
    "from sympy import *"
   ]
  },
  {
   "cell_type": "code",
   "execution_count": 3,
   "metadata": {},
   "outputs": [
    {
     "data": {
      "text/plain": [
       "{Vx: 4, Iy: 2}"
      ]
     },
     "execution_count": 3,
     "metadata": {},
     "output_type": "execute_result"
    }
   ],
   "source": [
    "# Question 1\n",
    "\n",
    "Vx, Iy = symbols('Vx, Iy')\n",
    "\n",
    "eq1 = Eq((Vx - 28)/3 + (Vx + 2)/3, -3*Iy)\n",
    "eq2 = Eq(28 - 12*Iy - 3*Iy + 2, 0)\n",
    "\n",
    "soln = solve((eq1, eq2), (Vx, Iy))\n",
    "\n",
    "soln"
   ]
  },
  {
   "cell_type": "code",
   "execution_count": 2,
   "metadata": {},
   "outputs": [
    {
     "data": {
      "text/plain": [
       "{Ix: -1, Iy: 2}"
      ]
     },
     "execution_count": 2,
     "metadata": {},
     "output_type": "execute_result"
    }
   ],
   "source": [
    "# Question 2\n",
    "\n",
    "Ix, Iy = symbols('Ix, Iy')\n",
    "\n",
    "eq1 = Eq(3 - Iy + Ix, 0)\n",
    "eq2 = Eq(3 - Iy + 6 - 3*(Iy + Ix) + 4*Ix, 0)\n",
    "\n",
    "soln = solve((eq1, eq2), (Ix, Iy))\n",
    "\n",
    "soln"
   ]
  },
  {
   "cell_type": "code",
   "execution_count": 12,
   "metadata": {},
   "outputs": [
    {
     "data": {
      "text/plain": [
       "{Vx: 2, I1: 1, I2: -1}"
      ]
     },
     "execution_count": 12,
     "metadata": {},
     "output_type": "execute_result"
    }
   ],
   "source": [
    "# Practice\n",
    "\n",
    "Vx, I1, I2 = symbols('Vx, I1, I2')\n",
    "\n",
    "Vin = 7\n",
    "\n",
    "eq1 = Eq(Vin - 2*(I1 - I2) - 3*I1, 0)\n",
    "eq2 = Eq(Vin - 2*I2 - 3*Vx - 3*I1, 0)\n",
    "eq3 = Eq(2*I2, -Vx)\n",
    "\n",
    "soln = solve((eq1, eq2, eq3), (Vx, I1, I2))\n",
    "\n",
    "soln"
   ]
  },
  {
   "cell_type": "code",
   "execution_count": 16,
   "metadata": {},
   "outputs": [
    {
     "data": {
      "text/plain": [
       "{Vout: -1000, Vx: 5}"
      ]
     },
     "execution_count": 16,
     "metadata": {},
     "output_type": "execute_result"
    }
   ],
   "source": [
    "# Practice 2\n",
    "\n",
    "Vout, Vx = symbols('Vout, Vx')\n",
    "\n",
    "Vin = 5\n",
    "K = 40\n",
    "Rc = 0\n",
    "\n",
    "eq1 = Eq(Vx, Vin - K*Vx*Rc)\n",
    "eq2 = Eq(Vout, -1*K*Vx*5)\n",
    "\n",
    "soln = solve((eq1, eq2), (Vout, Vx))\n",
    "\n",
    "soln"
   ]
  },
  {
   "cell_type": "code",
   "execution_count": null,
   "metadata": {},
   "outputs": [],
   "source": []
  }
 ],
 "metadata": {
  "kernelspec": {
   "display_name": "Python 3",
   "language": "python",
   "name": "python3"
  },
  "language_info": {
   "codemirror_mode": {
    "name": "ipython",
    "version": 3
   },
   "file_extension": ".py",
   "mimetype": "text/x-python",
   "name": "python",
   "nbconvert_exporter": "python",
   "pygments_lexer": "ipython3",
   "version": "3.9.5"
  },
  "orig_nbformat": 4,
  "vscode": {
   "interpreter": {
    "hash": "2851521aa62a4285c6ee96814bc15cf3fe9023c0c97937948b166e316e807417"
   }
  }
 },
 "nbformat": 4,
 "nbformat_minor": 2
}
