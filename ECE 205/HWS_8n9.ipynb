{
 "cells": [
  {
   "cell_type": "code",
   "execution_count": 1,
   "metadata": {},
   "outputs": [],
   "source": [
    "import numpy as np\n",
    "from sympy import *"
   ]
  },
  {
   "cell_type": "code",
   "execution_count": 2,
   "metadata": {},
   "outputs": [
    {
     "data": {
      "text/plain": [
       "{I1: 3.76666666666667, I2: 1.53333333333333}"
      ]
     },
     "execution_count": 2,
     "metadata": {},
     "output_type": "execute_result"
    }
   ],
   "source": [
    "V_in = 6\n",
    "R1 = 1\n",
    "R2 = 1\n",
    "R3 = 1\n",
    "Vf = 0.7\n",
    "\n",
    "I1, I2 = symbols('I1, I2')\n",
    "\n",
    "eq1 = Eq(V_in - I1*R1 - Vf - I2*R2, 0)\n",
    "eq2 = Eq(V_in - I1*R1 - (I1 - I2)*R3, 0)\n",
    "\n",
    "soln = solve((eq1, eq2), (I1, I2))\n",
    "\n",
    "soln"
   ]
  },
  {
   "cell_type": "code",
   "execution_count": 3,
   "metadata": {},
   "outputs": [
    {
     "data": {
      "text/plain": [
       "0.82"
      ]
     },
     "execution_count": 3,
     "metadata": {},
     "output_type": "execute_result"
    }
   ],
   "source": [
    "V_out = 0.12\n",
    "R1 = 10\n",
    "I = -0.027\n",
    "Vf = 0.7\n",
    "\n",
    "Va = V_out + Vf\n",
    "\n",
    "Va"
   ]
  },
  {
   "cell_type": "code",
   "execution_count": 12,
   "metadata": {},
   "outputs": [
    {
     "data": {
      "text/plain": [
       "{i: (1.0 + 0.5*I)*cos(2.0*t),\n",
       " I1: (0.5 + 1.5*I)*cos(2.0*t),\n",
       " I2: (0.5 - I)*cos(2.0*t)}"
      ]
     },
     "execution_count": 12,
     "metadata": {},
     "output_type": "execute_result"
    }
   ],
   "source": [
    "t = symbols('t')\n",
    "i, I1, I2 = symbols('i, I1, I2')\n",
    "\n",
    "V = 5*cos(2*t)\n",
    "R1 = 2\n",
    "R2 = 2\n",
    "C = 0.25\n",
    "L = 1\n",
    "\n",
    "omega = 2\n",
    "j = sqrt(-1)\n",
    "\n",
    "Xc = -j/omega/C\n",
    "Xl = j*omega*L\n",
    "\n",
    "eq1 = Eq(I1 + I2, i)\n",
    "eq2 = Eq(V - i*R1 - I1*Xc, 0)\n",
    "eq3 = Eq(V - i*R1 - I2*Xl - I2*R2, 0)\n",
    "\n",
    "soln = solve((eq1, eq2, eq3), (i, I1, I2))\n",
    "\n",
    "soln"
   ]
  },
  {
   "cell_type": "code",
   "execution_count": null,
   "metadata": {},
   "outputs": [],
   "source": []
  }
 ],
 "metadata": {
  "kernelspec": {
   "display_name": "Python 3",
   "language": "python",
   "name": "python3"
  },
  "language_info": {
   "codemirror_mode": {
    "name": "ipython",
    "version": 3
   },
   "file_extension": ".py",
   "mimetype": "text/x-python",
   "name": "python",
   "nbconvert_exporter": "python",
   "pygments_lexer": "ipython3",
   "version": "3.9.5"
  },
  "orig_nbformat": 4
 },
 "nbformat": 4,
 "nbformat_minor": 2
}
