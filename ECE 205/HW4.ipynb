{
 "cells": [
  {
   "cell_type": "code",
   "execution_count": 3,
   "metadata": {},
   "outputs": [
    {
     "data": {
      "text/plain": [
       "{Vx: 4/51, Vout: -200/51}"
      ]
     },
     "execution_count": 3,
     "metadata": {},
     "output_type": "execute_result"
    }
   ],
   "source": [
    "#!/usr/bin/env python\n",
    "# coding: utf-8\n",
    "\n",
    "# In[1]:\n",
    "\n",
    "\n",
    "import numpy as np\n",
    "from sympy import *\n",
    "\n",
    "\n",
    "# In[4]:\n",
    "\n",
    "\n",
    "Vx, Vy, Ix = symbols('Vx, Vy, Ix')\n",
    "Vin = 32\n",
    "\n",
    "\n",
    "eqn1 = Eq((Vx-Vin)/4 + 2 + (Vx-3*Ix)/2, 0)\n",
    "eqn2 = Eq(Vy/4 + (Vy-3*Ix)/1 - 1, 0)\n",
    "eqn3 = Eq(Ix, Vy/4)\n",
    "\n",
    "soln = solve((eqn1, eqn2, eqn3), (Vx, Vy, Ix))\n",
    "soln\n",
    "\n",
    "\n",
    "# In[8]:\n",
    "\n",
    "\n",
    "Vx, Vout = symbols(\"Vx, Vout\")\n",
    "Vin = 10\n",
    "K = 40\n",
    "\n",
    "eqn1 = Eq(Vin, Vx)\n",
    "eqn2 = Eq(-Vout - K*Vx*5, 0)\n",
    "soln = solve((eqn1, eqn2), (Vx, Vout))\n",
    "soln\n",
    "\n",
    "\n",
    "# In[12]:\n",
    "\n",
    "\n",
    "Vx, Iy  = symbols(\"Vx, Iy\")\n",
    "Vin = 28\n",
    "V1 = -2\n",
    "\n",
    "eqn1 = Eq((Vx-Vin)/3 + 3*Iy + (Vx-V1)/(2+1), 0)\n",
    "eqn2 = Eq(Iy, (Vx-V1)/(2+1))\n",
    "soln = solve((eqn1, eqn2), (Vx, Iy))\n",
    "\n",
    "soln\n",
    "\n",
    "\n",
    "# In[10]:\n",
    "\n",
    "\n",
    "Vx, Vout = symbols(\"Vx, Vout\")\n",
    "Vin = 4\n",
    "K = 10\n",
    "\n",
    "eqn1 = Eq(-Vin + Vx + 5*K*Vx, 0)\n",
    "eqn2 = Eq(-Vout - 5*K*Vx, 0)\n",
    "\n",
    "soln = solve((eqn1, eqn2), (Vx, Vout))\n",
    "soln\n",
    "\n",
    "\n",
    "\n",
    "\n"
   ]
  }
 ],
 "metadata": {
  "kernelspec": {
   "display_name": "Python 3",
   "language": "python",
   "name": "python3"
  },
  "language_info": {
   "codemirror_mode": {
    "name": "ipython",
    "version": 3
   },
   "file_extension": ".py",
   "mimetype": "text/x-python",
   "name": "python",
   "nbconvert_exporter": "python",
   "pygments_lexer": "ipython3",
   "version": "3.9.5"
  },
  "orig_nbformat": 4,
  "vscode": {
   "interpreter": {
    "hash": "2851521aa62a4285c6ee96814bc15cf3fe9023c0c97937948b166e316e807417"
   }
  }
 },
 "nbformat": 4,
 "nbformat_minor": 2
}
