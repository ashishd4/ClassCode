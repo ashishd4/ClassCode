{
 "cells": [
  {
   "cell_type": "code",
   "execution_count": 1,
   "metadata": {},
   "outputs": [],
   "source": [
    "import numpy as np\n",
    "from sympy import *"
   ]
  },
  {
   "cell_type": "code",
   "execution_count": 6,
   "metadata": {},
   "outputs": [
    {
     "data": {
      "text/plain": [
       "{Ic: 51.3000000000000,\n",
       " Vce: -5125.00000000000,\n",
       " Ie: 52.2000000000000,\n",
       " Ib: 0.900000000000000,\n",
       " I: 1.07500000000000}"
      ]
     },
     "execution_count": 6,
     "metadata": {},
     "output_type": "execute_result"
    }
   ],
   "source": [
    "Ic, Vce, Ie, Ib, I = symbols('Ic, Vce, Ie, Ib, I')\n",
    "\n",
    "VBE = 0.7\n",
    "VCEsat = 0.2\n",
    "beta = 57\n",
    "V1 = 5\n",
    "R1 = 4\n",
    "R2 = 4\n",
    "R3 = 100\n",
    "\n",
    "eq1 = Eq(Ic, beta*Ib)\n",
    "eq2 = Eq(Ic + Ib, Ie)\n",
    "eq3 = Eq(V1 - I*R1 - (I - Ib)*R2, 0)\n",
    "eq4 = Eq(V1 - Ic*R3, Vce)\n",
    "eq5 = Eq((I - Ib)*R2 - VBE, 0)\n",
    "\n",
    "soln = solve((eq1, eq2, eq3, eq4, eq5), (Ic, Vce, Ie, Ib, I))\n",
    "\n",
    "soln"
   ]
  },
  {
   "cell_type": "code",
   "execution_count": 11,
   "metadata": {},
   "outputs": [
    {
     "data": {
      "text/plain": [
       "[{Ib: 0.0191780821917808,\n",
       "  Ic: 1.91780821917808,\n",
       "  Ie: 1.93698630136986,\n",
       "  Rb: 123.214285714286}]"
      ]
     },
     "execution_count": 11,
     "metadata": {},
     "output_type": "execute_result"
    }
   ],
   "source": [
    "# Question 7\n",
    "\n",
    "Ic, Ie, Ib, VCE = symbols('Ic, Ie, Ib, VCE')\n",
    "Rb = symbols('Rb')\n",
    "\n",
    "VBEon = 0.7\n",
    "VCEsat = 0.2\n",
    "beta = 100\n",
    "V1 = 5\n",
    "V2 = 10\n",
    "R2 = 4.1\n",
    "R3 = 1\n",
    "# Rb = 1\n",
    "\n",
    "eq1 = Eq(V2 - Ic*R2 - VCEsat - Ie*R3, 0)\n",
    "eq2 = Eq(V1 - Ib*Rb - VBE - Ie*R3, 0)\n",
    "eq3 = Eq(Ic + Ib, Ie)\n",
    "eq4 = Eq(Ic, beta*Ib)\n",
    "\n",
    "soln = solve((eq1, eq2, eq3, eq4), (Ic, Ie, Ib, Rb), dict=True)\n",
    "\n",
    "soln"
   ]
  },
  {
   "cell_type": "code",
   "execution_count": null,
   "metadata": {},
   "outputs": [],
   "source": [
    "# Question 4\n",
    "\n",
    "Ic, Ie, Ib, VCE = symbols('Ic, Ie, Ib, VCE')\n",
    "\n"
   ]
  }
 ],
 "metadata": {
  "kernelspec": {
   "display_name": "Python 3",
   "language": "python",
   "name": "python3"
  },
  "language_info": {
   "codemirror_mode": {
    "name": "ipython",
    "version": 3
   },
   "file_extension": ".py",
   "mimetype": "text/x-python",
   "name": "python",
   "nbconvert_exporter": "python",
   "pygments_lexer": "ipython3",
   "version": "3.9.5"
  },
  "orig_nbformat": 4
 },
 "nbformat": 4,
 "nbformat_minor": 2
}
