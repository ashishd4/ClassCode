{
 "cells": [
  {
   "cell_type": "code",
   "execution_count": 1,
   "metadata": {},
   "outputs": [],
   "source": [
    "import numpy as np\n",
    "from sympy import *"
   ]
  },
  {
   "cell_type": "code",
   "execution_count": 15,
   "metadata": {},
   "outputs": [
    {
     "data": {
      "text/plain": [
       "{IR1: -1/7, I1: 9/7, I2: 17/7}"
      ]
     },
     "execution_count": 15,
     "metadata": {},
     "output_type": "execute_result"
    }
   ],
   "source": [
    "# Question 1\n",
    "\n",
    "IR1 = symbols('IR1')\n",
    "I1, I2 = symbols('I1, I2')\n",
    "\n",
    "R1 = 8\n",
    "\n",
    "eq1 = Eq(6 + IR1*R1 - 2*I2, 0)\n",
    "eq2 = Eq(6 - 2*I1 - 2*(I1 + 1) - 2*I2 + 6, 0)\n",
    "eq3 = Eq(I1 + 1, IR1 + I2)\n",
    "\n",
    "soln = solve((eq1, eq2, eq3), (IR1, I1, I2))\n",
    "\n",
    "soln"
   ]
  },
  {
   "cell_type": "code",
   "execution_count": 13,
   "metadata": {},
   "outputs": [
    {
     "data": {
      "text/plain": [
       "{Vx: -36/11, Vy: 90/11, V1: 18/11, I2: 36/11, I3: -9/11}"
      ]
     },
     "execution_count": 13,
     "metadata": {},
     "output_type": "execute_result"
    }
   ],
   "source": [
    "# Question 2\n",
    "\n",
    "Vx, Vy, V1, I2, I3 = symbols('Vx, Vy, V1, I2, I3')\n",
    "\n",
    "# All givens, plug in from problem\n",
    "K1 = 4 \n",
    "K2 = 2\n",
    "I1 = 9\n",
    "R1 = 1\n",
    "R2 = 2\n",
    "R3 = 2 \n",
    "\n",
    "eq1 = Eq(I1, I2 + I3 + K1*V1)\n",
    "eq2 = Eq(K2*I2 - R3*I3 - R2*(I3 + K1*V1) + I2*R1, 0)\n",
    "eq3 = Eq(Vx, -I2*R1)\n",
    "eq4 = Eq(Vy, K2*I2 - R3*I3)\n",
    "eq5 = Eq(V1, -R3*I3)\n",
    "\n",
    "soln = solve((eq1, eq2, eq3, eq4, eq5), (Vx, Vy, V1, I2, I3))\n",
    "\n",
    "soln"
   ]
  },
  {
   "cell_type": "code",
   "execution_count": 14,
   "metadata": {},
   "outputs": [
    {
     "data": {
      "text/plain": [
       "{Vx: 9/5, Vy: 3, Vz: 3, Ix: 1, I1: 2/5, I2: 0}"
      ]
     },
     "execution_count": 14,
     "metadata": {},
     "output_type": "execute_result"
    }
   ],
   "source": [
    "# Question 5\n",
    "\n",
    "Vx, Vy, Vz, Ix = symbols('Vx, Vy, Vz, Ix')\n",
    "I1, I2 = symbols('I1, I2')\n",
    "\n",
    "K = 3\n",
    "\n",
    "eq1 = Eq(3 - 2*(I1 - 1) - K*Ix - 3*I1, 0)\n",
    "eq2 = Eq(3 - 2*(I1 - 1) - 1*I2 - 3*Ix - 3*I1, 0)\n",
    "eq3 = Eq(K*Ix - 1*I2 - 3*Ix, 0)\n",
    "eq4 = Eq(Vx, 3 - 3*I1)\n",
    "eq5 = Eq(Vy, Vx - 2*(I1 - 1))\n",
    "eq6 = Eq(Vz, Vy - 1*I2)\n",
    "eq7 = Eq(I2 + 1, Ix)\n",
    "\n",
    "soln = solve((eq1, eq2, eq3, eq4, eq5, eq6, eq7), (Vx, Vy, Vz, Ix, I1, I2))\n",
    "\n",
    "soln"
   ]
  },
  {
   "cell_type": "code",
   "execution_count": null,
   "metadata": {},
   "outputs": [],
   "source": []
  }
 ],
 "metadata": {
  "kernelspec": {
   "display_name": "Python 3",
   "language": "python",
   "name": "python3"
  },
  "language_info": {
   "codemirror_mode": {
    "name": "ipython",
    "version": 3
   },
   "file_extension": ".py",
   "mimetype": "text/x-python",
   "name": "python",
   "nbconvert_exporter": "python",
   "pygments_lexer": "ipython3",
   "version": "3.9.5"
  },
  "orig_nbformat": 4
 },
 "nbformat": 4,
 "nbformat_minor": 2
}
