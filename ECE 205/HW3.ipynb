{
 "cells": [
  {
   "cell_type": "code",
   "execution_count": 2,
   "metadata": {},
   "outputs": [
    {
     "data": {
      "text/plain": [
       "0.9908691241122795"
      ]
     },
     "execution_count": 2,
     "metadata": {},
     "output_type": "execute_result"
    }
   ],
   "source": [
    "Vab = 1.4785\n",
    "Voc = 1.5078\n",
    "\n",
    "I = Vab/50\n",
    "Rint = (Voc - Vab)/I\n",
    "\n",
    "Rint"
   ]
  },
  {
   "cell_type": "code",
   "execution_count": 2,
   "metadata": {},
   "outputs": [
    {
     "name": "stdout",
     "output_type": "stream",
     "text": [
      "Rth:  16\n",
      "Vth:  120\n"
     ]
    }
   ],
   "source": [
    "#ECE205 HW3 Problem 4 - Thevenin\n",
    "\n",
    "from sympy import *\n",
    "\n",
    "i1 = 8 #mA\n",
    "i2 = 4 #mA\n",
    "R1 = 6 #kOhms\n",
    "R2 = 10 #kOhms\n",
    "\n",
    "Rth = R2 + 6\n",
    "Vth = (i1 + i2) * R2\n",
    "\n",
    "print('Rth: ', Rth)\n",
    "print('Vth: ', Vth)"
   ]
  },
  {
   "cell_type": "code",
   "execution_count": 11,
   "metadata": {},
   "outputs": [
    {
     "name": "stdout",
     "output_type": "stream",
     "text": [
      "soln:  {i1: 1/6, i2: -1/36, i3: 7/36}\n",
      "Vth:  7.0\n",
      "Rth:  9000.0\n",
      "RL:  9000.0\n",
      "P:  0.001361111111111111\n"
     ]
    }
   ],
   "source": [
    "#Problem 5 - Thevenin\n",
    "\n",
    "from sympy import *\n",
    "\n",
    "R1 = 18\n",
    "R2 = 36\n",
    "R3 = 36\n",
    "V_in = 2\n",
    "V2 = 8\n",
    "\n",
    "i1, i2, i3 = symbols('i1, i2, i3')\n",
    "\n",
    "eq1 = Eq(V_in, i1*R1 + i2*R2)\n",
    "eq2 = Eq(V_in + V2, i1*R1 + i3*R3)\n",
    "eq3 = Eq(i2 + i3, i1)\n",
    "\n",
    "soln = solve((eq1, eq2, eq3), (i1, i2, i3))\n",
    "\n",
    "print('soln: ', soln)\n",
    "\n",
    "i3 = 7/36 #CHANGE THIS BASED ON WHAT i3 FROM soln IS\n",
    "\n",
    "Rth = 1/(1/R1 + 1/R2 + 1/R3) * 1000\n",
    "RL = Rth\n",
    "\n",
    "Vth = i3 * R3\n",
    "print('Vth: ', Vth)\n",
    "print('Rth: ', Rth/1000)\n",
    "print('RL: ', RL/1000)\n",
    "\n",
    "I = Vth/(Rth + RL)\n",
    "P = I**2 * Rth\n",
    "\n",
    "print('P: ', P)"
   ]
  },
  {
   "cell_type": "code",
   "execution_count": 15,
   "metadata": {},
   "outputs": [
    {
     "name": "stdout",
     "output_type": "stream",
     "text": [
      "Vth:  8*i3 - 4\n",
      "Rth:  5.0\n"
     ]
    }
   ],
   "source": [
    "#Problem 3.6 - Thevenin\n",
    "\n",
    "from sympy import *\n",
    "\n",
    "R1 = 6 #kOhms\n",
    "R2 = 2 #kOhms\n",
    "R3 = 8 #kOhms\n",
    "V_in = 24 #V\n",
    "V2 = -4 #V\n",
    "\n",
    "Rth = 1 + 1/(1/R3 + 1/(R1 + R2))\n",
    "\n",
    "i2, i3 = symbols('i2, i3')\n",
    "\n",
    "eq1 = Eq(V_in, i2*R1 + i3*R3 + i2*R2)\n",
    "eq2 = Eq(i2, 1 + i3)\n",
    "\n",
    "soln = solve((eq1, eq2), (i2, i3))\n",
    "\n",
    "print('soln: ', soln)\n",
    "\n",
    "Rth = 1 + 1/(1/R3 + 1/(R1 + R2))\n",
    "\n",
    "Vth = V2 + 1*R3\n",
    "print('Vth: ', Vth)\n",
    "print('Rth: ', Rth)"
   ]
  },
  {
   "cell_type": "code",
   "execution_count": 10,
   "metadata": {},
   "outputs": [
    {
     "ename": "TypeError",
     "evalue": "__new__() missing 1 required positional argument: 'lhs'",
     "output_type": "error",
     "traceback": [
      "\u001b[1;31m---------------------------------------------------------------------------\u001b[0m",
      "\u001b[1;31mTypeError\u001b[0m                                 Traceback (most recent call last)",
      "Cell \u001b[1;32mIn [10], line 9\u001b[0m\n\u001b[0;32m      6\u001b[0m V1, V3, V4 \u001b[39m=\u001b[39m symbols(\u001b[39m'\u001b[39m\u001b[39mV1, V3, V4\u001b[39m\u001b[39m'\u001b[39m)\n\u001b[0;32m      8\u001b[0m eq1 \u001b[39m=\u001b[39m Eq(V1, \u001b[39m12\u001b[39m \u001b[39m+\u001b[39m V3)\n\u001b[1;32m----> 9\u001b[0m eq2 \u001b[39m=\u001b[39m Eq()\n\u001b[0;32m     10\u001b[0m Eq3 \u001b[39m=\u001b[39m Eq()\n",
      "\u001b[1;31mTypeError\u001b[0m: __new__() missing 1 required positional argument: 'lhs'"
     ]
    }
   ],
   "source": [
    "#Problem 2\n",
    "\n",
    "V_in = 4 #V\n",
    "\n",
    "V2 = V_in\n",
    "V1, V3, V4 = symbols('V1, V3, V4')\n",
    "\n",
    "eq1 = Eq(V1, 12 + V3)\n",
    "# eq2 = Eq()\n",
    "# eq3 = Eq()"
   ]
  },
  {
   "cell_type": "code",
   "execution_count": 20,
   "metadata": {},
   "outputs": [
    {
     "data": {
      "text/plain": [
       "{Vth: 20.0000000000000, Rth: 10.0000000000000}"
      ]
     },
     "execution_count": 20,
     "metadata": {},
     "output_type": "execute_result"
    }
   ],
   "source": [
    "#HW3 - Written Problem 1\n",
    "\n",
    "R1 = 10 #kOhms\n",
    "R2 = 30 #kOhms\n",
    "V1 = 10 #V\n",
    "V2 = 15 #V\n",
    "\n",
    "Vth, Rth = symbols('Vth, Rth')\n",
    "\n",
    "eq1 = Eq(Vth, V1/R1*(Rth + R1))\n",
    "eq2 = Eq(Vth, V2/R2*(Rth + R2))\n",
    "\n",
    "soln = solve((eq1, eq2), (Vth, Rth))\n",
    "\n",
    "soln"
   ]
  },
  {
   "cell_type": "code",
   "execution_count": 22,
   "metadata": {},
   "outputs": [
    {
     "data": {
      "text/plain": [
       "{V1: 17/2, V2: -22/3}"
      ]
     },
     "execution_count": 22,
     "metadata": {},
     "output_type": "execute_result"
    }
   ],
   "source": [
    "#HW3 - Written Problem 2\n",
    "\n",
    "R1 = 5 #kOhms\n",
    "R2 = 3 #kOhms\n",
    "R3 = 4 #kOhms\n",
    "I1 = 2 #mA\n",
    "I2 = 4 #mA\n",
    "I3 = 3 #mA\n",
    "\n",
    "V1, V2 = symbols('V1, V2')\n",
    "\n",
    "eq1 = Eq(V1/R2 + (V1 - V2)/R1 - I1 - I2, 0)\n",
    "eq2 = Eq(V2/R3 - (V1 - V2)/R1 + I1 + I3, 0)\n",
    "\n",
    "soln = solve((eq1, eq2), (V1, V2))\n",
    "\n",
    "soln"
   ]
  }
 ],
 "metadata": {
  "kernelspec": {
   "display_name": "Python 3",
   "language": "python",
   "name": "python3"
  },
  "language_info": {
   "codemirror_mode": {
    "name": "ipython",
    "version": 3
   },
   "file_extension": ".py",
   "mimetype": "text/x-python",
   "name": "python",
   "nbconvert_exporter": "python",
   "pygments_lexer": "ipython3",
   "version": "3.9.5"
  },
  "orig_nbformat": 4,
  "vscode": {
   "interpreter": {
    "hash": "2851521aa62a4285c6ee96814bc15cf3fe9023c0c97937948b166e316e807417"
   }
  }
 },
 "nbformat": 4,
 "nbformat_minor": 2
}
