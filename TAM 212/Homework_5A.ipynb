{
 "cells": [
  {
   "cell_type": "code",
   "execution_count": 1,
   "id": "after-portable",
   "metadata": {},
   "outputs": [],
   "source": [
    "from sympy import *\n",
    "import numpy as np"
   ]
  },
  {
   "cell_type": "code",
   "execution_count": 5,
   "id": "packed-singles",
   "metadata": {},
   "outputs": [
    {
     "data": {
      "text/latex": [
       "$\\displaystyle 48$"
      ],
      "text/plain": [
       "48"
      ]
     },
     "execution_count": 5,
     "metadata": {},
     "output_type": "execute_result"
    }
   ],
   "source": [
    "#476. Mass of an algebraic shape\n",
    "\n",
    "import numpy as np\n",
    "from sympy import *\n",
    "\n",
    "x, y = symbols('x, y')\n",
    "\n",
    "rho = 8\n",
    "y1 = -2*x**2 - 2\n",
    "y2 = x**2 - 4*x + 5\n",
    "x1 = 0\n",
    "x2 = 1\n",
    "\n",
    "rho * integrate(y2 - y1, (x, x1, x2))"
   ]
  },
  {
   "cell_type": "code",
   "execution_count": 11,
   "id": "romance-bloom",
   "metadata": {},
   "outputs": [
    {
     "data": {
      "text/plain": [
       "-9.6"
      ]
     },
     "execution_count": 11,
     "metadata": {},
     "output_type": "execute_result"
    }
   ],
   "source": [
    "#447. Gear train angular velocity\n",
    "\n",
    "r1 = 5\n",
    "r2 = 8\n",
    "r3 = 7\n",
    "r4 = 8\n",
    "omega4 = 6\n",
    "\n",
    "-1 * omega4 * r4/r1"
   ]
  },
  {
   "cell_type": "code",
   "execution_count": 12,
   "id": "departmental-environment",
   "metadata": {},
   "outputs": [
    {
     "data": {
      "text/plain": [
       "11.666666666666666"
      ]
     },
     "execution_count": 12,
     "metadata": {},
     "output_type": "execute_result"
    }
   ],
   "source": [
    "#298. Gear train point acceleration\n",
    "\n",
    "r1 = 6\n",
    "r2 = 9\n",
    "r3 = 6\n",
    "r4 = 8\n",
    "aP = 70\n",
    "omega2Mag = 2\n",
    "\n",
    "aP/r1"
   ]
  },
  {
   "cell_type": "code",
   "execution_count": null,
   "id": "prescription-hampshire",
   "metadata": {},
   "outputs": [],
   "source": []
  }
 ],
 "metadata": {
  "kernelspec": {
   "display_name": "Python 3",
   "language": "python",
   "name": "python3"
  },
  "language_info": {
   "codemirror_mode": {
    "name": "ipython",
    "version": 3
   },
   "file_extension": ".py",
   "mimetype": "text/x-python",
   "name": "python",
   "nbconvert_exporter": "python",
   "pygments_lexer": "ipython3",
   "version": "3.8.6"
  }
 },
 "nbformat": 4,
 "nbformat_minor": 5
}
