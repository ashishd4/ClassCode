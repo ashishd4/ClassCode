{
 "cells": [
  {
   "cell_type": "code",
   "execution_count": 2,
   "id": "compliant-prague",
   "metadata": {},
   "outputs": [
    {
     "name": "stdout",
     "output_type": "stream",
     "text": [
      "-2.82842712474619\n",
      "-3.46382422494197e-16\n"
     ]
    }
   ],
   "source": [
    "#Playground, and wher ethe imports come from\n",
    "#Most recent: 702. Change vector basis with offset\n",
    "\n",
    "from sympy import *\n",
    "import numpy as np\n",
    "\n",
    "theta = 135 # in degrees\n",
    "rOQ = Matrix([ 3, -2,  0])\n",
    "rQP = Matrix([-1,  0,  0])\n",
    "\n",
    "rOP = rOQ + rQP\n",
    "rOP_mag = rOP.norm()\n",
    "\n",
    "j = float(rOP[1])\n",
    "i = float(rOP[0])\n",
    "\n",
    "angle = np.arctan2(j, i) - np.radians(theta)\n",
    "\n",
    "u = rOP_mag.evalf() * cos(angle)\n",
    "v = rOP_mag.evalf() * sin(angle)\n",
    "\n",
    "print(u)\n",
    "print(v)"
   ]
  },
  {
   "cell_type": "code",
   "execution_count": 48,
   "id": "patent-procurement",
   "metadata": {},
   "outputs": [
    {
     "name": "stdout",
     "output_type": "stream",
     "text": [
      "-2.82842712474619\n",
      "-2.22044604925031e-16\n"
     ]
    }
   ],
   "source": [
    "#702. Change vector basis with offset\n",
    "\n",
    "theta = 135 # in degrees\n",
    "rOQ = Matrix([ 3, -2,  0])\n",
    "rQP = Matrix([-1,  0,  0])\n",
    "\n",
    "rOP = rOQ + rQP\n",
    "\n",
    "u = np.cos(np.radians(theta)) * rOP[0] + np.sin(np.radians(theta)) * rOP[1]\n",
    "v = -np.sin(np.radians(theta)) * rOP[0] + np.cos(np.radians(theta)) * rOP[1]\n",
    "\n",
    "print(u)\n",
    "print(v)"
   ]
  },
  {
   "cell_type": "code",
   "execution_count": 50,
   "id": "driving-harvard",
   "metadata": {},
   "outputs": [
    {
     "name": "stdout",
     "output_type": "stream",
     "text": [
      "1.09807621135332\n",
      "4.09807621135332\n"
     ]
    }
   ],
   "source": [
    "#608. Change vector basis\n",
    "\n",
    "theta = 150 # in degrees\n",
    "r = Matrix([-3, -3,  0])\n",
    "\n",
    "u = np.cos(np.radians(theta)) * r[0] + np.sin(np.radians(theta)) * r[1]\n",
    "v = -np.sin(np.radians(theta)) * r[0] + np.cos(np.radians(theta)) * r[1]\n",
    "\n",
    "print(u)\n",
    "print(v)"
   ]
  },
  {
   "cell_type": "code",
   "execution_count": 57,
   "id": "informational-rover",
   "metadata": {},
   "outputs": [
    {
     "name": "stdout",
     "output_type": "stream",
     "text": [
      "Matrix([[-2.63513513513514], [3.68918918918919], [0]])\n"
     ]
    }
   ],
   "source": [
    "#154. Projection onto polar basis vectors\n",
    "\n",
    "Px = -5\n",
    "Py = 7\n",
    "v = Matrix([-5,  2,  0])\n",
    "\n",
    "u = Matrix([Px, Py, 0])\n",
    "u_mag = u.norm()\n",
    "\n",
    "u_hat = u/u_mag\n",
    "\n",
    "ans = v.dot(u_hat)*u_hat\n",
    "\n",
    "print(ans.evalf())"
   ]
  },
  {
   "cell_type": "code",
   "execution_count": 73,
   "id": "russian-province",
   "metadata": {},
   "outputs": [
    {
     "name": "stdout",
     "output_type": "stream",
     "text": [
      "{i: 3/5, j: 14/5}\n"
     ]
    }
   ],
   "source": [
    "#194. Dot products with orthogonal vectors\n",
    "\n",
    "a = Matrix([-1,  2,  0])\n",
    "c_dot_a = 5\n",
    "c_dot_b = -4\n",
    "\n",
    "b = Matrix([-a[1], a[0], 0])\n",
    "\n",
    "i, j = symbols('i, j')\n",
    "\n",
    "test = Matrix([i, j, 0])\n",
    "\n",
    "eq1 = Eq(a.dot(test), c_dot_a)\n",
    "eq2 = Eq(b.dot(test), c_dot_b)\n",
    "\n",
    "ans = solve((eq1, eq2), (i, j))\n",
    "\n",
    "print(ans)"
   ]
  },
  {
   "cell_type": "code",
   "execution_count": 101,
   "id": "grateful-richardson",
   "metadata": {},
   "outputs": [
    {
     "name": "stdout",
     "output_type": "stream",
     "text": [
      "[(2.34951987450363, -3.23724518059915), (3.59651526837339, 1.75073639487990)]\n"
     ]
    }
   ],
   "source": [
    "#470. Vector at an angle\n",
    "\n",
    "a = Matrix([ 4, -1,  0])\n",
    "bLength = 4.000\n",
    "theta = 0.698 # in radians\n",
    "\n",
    "a_mag = a.norm()\n",
    "\n",
    "bi, bj = symbols('bi, bj')\n",
    "\n",
    "b = Matrix([bi, bj, 0])\n",
    "\n",
    "eq1 = Eq(a.dot(b), a_mag*bLength*np.cos(theta))\n",
    "eq2 = Eq(bi*bi + bj*bj, bLength*bLength)\n",
    "\n",
    "print(solve((eq1, eq2), (bi, bj)))"
   ]
  },
  {
   "cell_type": "code",
   "execution_count": 3,
   "id": "starting-palestinian",
   "metadata": {},
   "outputs": [
    {
     "name": "stdout",
     "output_type": "stream",
     "text": [
      "14.8465279679088\n",
      "-2.33731936936236\n"
     ]
    }
   ],
   "source": [
    "x, y = symbols('x, y')\n",
    "y = -11\n",
    "x = -13\n",
    "vr = -1\n",
    "v_theta = -2\n",
    "time = 2\n",
    "\n",
    "theta = np.arctan2(y, x) # in radians\n",
    "mat = Matrix([x, y])\n",
    "\n",
    "mag = mat.norm()\n",
    "\n",
    "new_mag = mag + vr * time\n",
    "angle = theta + v_theta * time\n",
    "\n",
    "u = new_mag.evalf() * cos(angle)\n",
    "v = new_mag.evalf() * sin(angle)\n",
    "\n",
    "print(u)\n",
    "print(v)"
   ]
  },
  {
   "cell_type": "code",
   "execution_count": 18,
   "id": "different-preference",
   "metadata": {},
   "outputs": [
    {
     "name": "stdout",
     "output_type": "stream",
     "text": [
      "1.0801234497346435\n"
     ]
    }
   ],
   "source": [
    "#HW2B.7\n",
    "\n",
    "x = 4\n",
    "y = 2\n",
    "z = -2\n",
    "vMag = 4\n",
    "u = Matrix([-2,  1,  3])\n",
    "\n",
    "u_hat = u/u.norm()\n",
    "r = Matrix([x, y, z])\n",
    "\n",
    "ans = vMag/(u_hat.cross(r).norm())\n",
    "\n",
    "print(float(ans))"
   ]
  },
  {
   "cell_type": "code",
   "execution_count": null,
   "id": "global-netscape",
   "metadata": {},
   "outputs": [],
   "source": []
  }
 ],
 "metadata": {
  "kernelspec": {
   "display_name": "Python 3",
   "language": "python",
   "name": "python3"
  },
  "language_info": {
   "codemirror_mode": {
    "name": "ipython",
    "version": 3
   },
   "file_extension": ".py",
   "mimetype": "text/x-python",
   "name": "python",
   "nbconvert_exporter": "python",
   "pygments_lexer": "ipython3",
   "version": "3.8.6"
  }
 },
 "nbformat": 4,
 "nbformat_minor": 5
}
