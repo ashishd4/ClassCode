{
 "cells": [
  {
   "cell_type": "code",
   "execution_count": 2,
   "id": "lasting-borough",
   "metadata": {},
   "outputs": [],
   "source": [
    "from sympy import *\n",
    "import numpy as np"
   ]
  },
  {
   "cell_type": "code",
   "execution_count": 22,
   "id": "previous-dutch",
   "metadata": {},
   "outputs": [
    {
     "name": "stdout",
     "output_type": "stream",
     "text": [
      "94.11490859759131\n",
      "153.9588334981228\n"
     ]
    }
   ],
   "source": [
    "#1143. Acceleration on a body rolling on a curved surface\n",
    "\n",
    "rho = 46\n",
    "omega = Matrix([0, 0, 5])\n",
    "alpha = Matrix([ 0,  0, -8])\n",
    "rCQ = Matrix([-8, -7,  0])\n",
    "\n",
    "r = rCQ.norm()\n",
    "\n",
    "omegaz = omega[2]\n",
    "alphaz = alpha[2]\n",
    "\n",
    "et = Matrix([0, 1, 0])\n",
    "en = Matrix([-1, 0, 0])\n",
    "\n",
    "aC = (r*alphaz)*et + ((r*omegaz)**2/(rho+r))*en #CHANGE TO rho-r WHENEVER INSIDE CIRCLE\n",
    "\n",
    "aQ = aC + alpha.cross(rCQ) + omega.cross(omega.cross(rCQ))\n",
    "\n",
    "print(float(aQ[0]))\n",
    "print(float(aQ[1]))"
   ]
  },
  {
   "cell_type": "code",
   "execution_count": 34,
   "id": "included-victoria",
   "metadata": {},
   "outputs": [
    {
     "name": "stdout",
     "output_type": "stream",
     "text": [
      "{r: 3/7}\n",
      "0.42857142857142855\n"
     ]
    }
   ],
   "source": [
    "#732. Rolling body offset-point velocity - radius\n",
    "\n",
    "omega = Matrix([0, 0, 7])\n",
    "vQ = Matrix([-3, 3, 0])\n",
    "\n",
    "r = symbols('r')\n",
    "\n",
    "rCQ = Matrix([r, 0, 0])\n",
    "\n",
    "vC = Matrix([-omega[2]*r, 0, 0])\n",
    "\n",
    "eq1 = Eq(vQ, vC + omega.cross(rCQ))\n",
    "\n",
    "print(solve(eq1, r))\n",
    "\n",
    "print(float(3/7))"
   ]
  },
  {
   "cell_type": "code",
   "execution_count": 3,
   "id": "practical-provider",
   "metadata": {},
   "outputs": [
    {
     "name": "stdout",
     "output_type": "stream",
     "text": [
      "{omega: -1/2}\n"
     ]
    }
   ],
   "source": [
    "#732. Rolling body offset-point velocity - angular velocity\n",
    "\n",
    "r = 6\n",
    "vQ = Matrix([ 3, -3,  0])\n",
    "\n",
    "rCQ = Matrix([r, 0, 0])\n",
    "\n",
    "omega = symbols('omega')\n",
    "omega_mat = Matrix([0, 0, omega])\n",
    "\n",
    "vC = Matrix([-omega*r, 0, 0])\n",
    "\n",
    "eq1 = Eq(vQ, vC + omega_mat.cross(rCQ))\n",
    "\n",
    "print(solve(eq1, omega))"
   ]
  },
  {
   "cell_type": "code",
   "execution_count": null,
   "id": "norwegian-engagement",
   "metadata": {},
   "outputs": [],
   "source": []
  }
 ],
 "metadata": {
  "kernelspec": {
   "display_name": "Python 3",
   "language": "python",
   "name": "python3"
  },
  "language_info": {
   "codemirror_mode": {
    "name": "ipython",
    "version": 3
   },
   "file_extension": ".py",
   "mimetype": "text/x-python",
   "name": "python",
   "nbconvert_exporter": "python",
   "pygments_lexer": "ipython3",
   "version": "3.9.5"
  },
  "vscode": {
   "interpreter": {
    "hash": "2851521aa62a4285c6ee96814bc15cf3fe9023c0c97937948b166e316e807417"
   }
  }
 },
 "nbformat": 4,
 "nbformat_minor": 5
}
