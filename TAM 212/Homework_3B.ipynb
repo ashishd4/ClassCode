{
 "cells": [
  {
   "cell_type": "code",
   "execution_count": 66,
   "id": "incorporated-timer",
   "metadata": {},
   "outputs": [
    {
     "name": "stdout",
     "output_type": "stream",
     "text": [
      "2.1081851067789197\n"
     ]
    }
   ],
   "source": [
    "#TAM 212\n",
    "#HW3B.2 - Acceleration magnitude from polynomial distance and curvature\n",
    "\n",
    "import numpy as np\n",
    "from sympy import *\n",
    "\n",
    "t = symbols('t', real = True)\n",
    "s = -t**2 + 2*t\n",
    "t_v = 2\n",
    "rho = 6\n",
    "\n",
    "sdot = s.diff(t)\n",
    "sddot = sdot.diff(t)\n",
    "\n",
    "mat = Matrix([sddot.subs(t, t_v), (sdot.subs(t, t_v))**2/rho])\n",
    "\n",
    "print(float(mat.norm()))"
   ]
  },
  {
   "cell_type": "code",
   "execution_count": 67,
   "id": "parental-omega",
   "metadata": {
    "jupyter": {
     "source_hidden": true
    }
   },
   "outputs": [
    {
     "name": "stdout",
     "output_type": "stream",
     "text": [
      "28.380050656713074\n"
     ]
    }
   ],
   "source": [
    "v = Matrix([0,31,2]) # in polar basis\n",
    "a = Matrix([-31,93,-8]) # in polar basis\n",
    "\n",
    "cos = v.dot(a)/(a.norm()*v.norm())\n",
    "theta = np.arccos(float(cos))\n",
    "p = v.norm()**2/a.norm()/np.sin(theta)\n",
    "\n",
    "print(float(p))"
   ]
  },
  {
   "cell_type": "code",
   "execution_count": 68,
   "id": "adequate-stranger",
   "metadata": {},
   "outputs": [
    {
     "name": "stdout",
     "output_type": "stream",
     "text": [
      "5.1560270930839165\n"
     ]
    }
   ],
   "source": [
    "#HW3B.5. Speed graph and acceleration quantities\n",
    "\n",
    "sdot = 6\n",
    "sddot = 0.5\n",
    "a = 7\n",
    "\n",
    "rho = sdot**2/np.sqrt(a**2 - sddot**2)\n",
    "\n",
    "#Matrix([sddot, sdot**2/rho])\n",
    "\n",
    "print(rho)"
   ]
  },
  {
   "cell_type": "code",
   "execution_count": 92,
   "id": "informational-channel",
   "metadata": {},
   "outputs": [
    {
     "name": "stdout",
     "output_type": "stream",
     "text": [
      "13.333333333333334 -373.3333333333333\n",
      "-43.333333333333336 363.3333333333333\n"
     ]
    }
   ],
   "source": [
    "#HW3B.6. Osculating center for a polynomial trajectory\n",
    "\n",
    "import math\n",
    "\n",
    "t = symbols('t', real = True)\n",
    "r = Matrix([-3*t**2 - t - 1, -t - 3, 0])\n",
    "t_v = 2\n",
    "\n",
    "v = r.diff(t)\n",
    "a = v.diff(t)\n",
    "\n",
    "v_mag = v.norm()\n",
    "a_mag = a.norm()\n",
    "\n",
    "theta = acos(v.subs(t, t_v).dot(a)/(v_mag*a_mag))\n",
    "\n",
    "rho = v_mag*v_mag/a_mag/sin(theta)\n",
    "v_unit = v/v_mag\n",
    "n_vec = Matrix([-v_unit[1], v_unit[0], 0])\n",
    "n_vec_2 = Matrix([v_unit[1], -v_unit[0], 0])\n",
    "\n",
    "center = (r + rho*n_vec).subs(t, t_v)\n",
    "center_2 = (r + rho*n_vec_2).subs(t, t_v)\n",
    "\n",
    "print(float(center[0]), float(center[1]))\n",
    "print(float(center_2[0]), float(center_2[1]))"
   ]
  },
  {
   "cell_type": "code",
   "execution_count": null,
   "id": "simplified-oklahoma",
   "metadata": {},
   "outputs": [],
   "source": []
  },
  {
   "cell_type": "code",
   "execution_count": null,
   "id": "innovative-south",
   "metadata": {},
   "outputs": [],
   "source": []
  }
 ],
 "metadata": {
  "kernelspec": {
   "display_name": "Python 3",
   "language": "python",
   "name": "python3"
  },
  "language_info": {
   "codemirror_mode": {
    "name": "ipython",
    "version": 3
   },
   "file_extension": ".py",
   "mimetype": "text/x-python",
   "name": "python",
   "nbconvert_exporter": "python",
   "pygments_lexer": "ipython3",
   "version": "3.8.6"
  }
 },
 "nbformat": 4,
 "nbformat_minor": 5
}
