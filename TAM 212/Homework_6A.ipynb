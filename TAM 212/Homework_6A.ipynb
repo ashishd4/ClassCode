{
 "cells": [
  {
   "cell_type": "code",
   "execution_count": 1,
   "id": "successful-horizon",
   "metadata": {},
   "outputs": [],
   "source": [
    "from sympy import *\n",
    "import numpy as np"
   ]
  },
  {
   "cell_type": "code",
   "execution_count": 15,
   "id": "right-george",
   "metadata": {},
   "outputs": [
    {
     "name": "stdout",
     "output_type": "stream",
     "text": [
      "1.0\n",
      "2.3333333333333335\n"
     ]
    }
   ],
   "source": [
    "from sympy import *\n",
    "\n",
    "omega = Matrix([0, 0, 3])\n",
    "rP = Matrix([1, 1, 0])\n",
    "vP = Matrix([4, 0, 0])\n",
    "\n",
    "omegaz = omega[2]\n",
    "\n",
    "change = Matrix([vP[1] / omegaz, -vP[0] / omegaz, 0])\n",
    "\n",
    "ans = rP - change\n",
    "\n",
    "print(float(ans[0]))\n",
    "print(float(ans[1]))"
   ]
  },
  {
   "cell_type": "code",
   "execution_count": null,
   "id": "fitted-territory",
   "metadata": {},
   "outputs": [],
   "source": []
  }
 ],
 "metadata": {
  "kernelspec": {
   "display_name": "Python 3",
   "language": "python",
   "name": "python3"
  },
  "language_info": {
   "codemirror_mode": {
    "name": "ipython",
    "version": 3
   },
   "file_extension": ".py",
   "mimetype": "text/x-python",
   "name": "python",
   "nbconvert_exporter": "python",
   "pygments_lexer": "ipython3",
   "version": "3.8.6"
  }
 },
 "nbformat": 4,
 "nbformat_minor": 5
}
