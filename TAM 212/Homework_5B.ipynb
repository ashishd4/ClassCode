{
 "cells": [
  {
   "cell_type": "code",
   "execution_count": 1,
   "id": "incredible-purse",
   "metadata": {},
   "outputs": [],
   "source": [
    "from sympy import *\n",
    "import numpy as np"
   ]
  },
  {
   "cell_type": "code",
   "execution_count": 16,
   "id": "suburban-yacht",
   "metadata": {},
   "outputs": [
    {
     "name": "stdout",
     "output_type": "stream",
     "text": [
      "2916.54\n"
     ]
    }
   ],
   "source": [
    "#1015. Moment of inertia about center of a segmented bar\n",
    "\n",
    "w = 3\n",
    "l1 = 6\n",
    "rho1 = 4\n",
    "l2 = 6\n",
    "rho2 = 8\n",
    "l3 = 3\n",
    "rho3 = 1\n",
    "\n",
    "mass1 = w * l1 * rho1\n",
    "mass2 = w * l2 * rho2\n",
    "mass3 = w * l3 * rho3\n",
    "\n",
    "pos1 = l1/2\n",
    "pos2 = l1 + l2/2\n",
    "pos3 = l1 + l2 + l3/2\n",
    "\n",
    "com = (mass1 * pos1 + mass2 * pos2 + mass3 * pos3)/(mass1 + mass2 + mass3)\n",
    "\n",
    "I1 = mass1 * (pos1 - com)**2 + 1/12 * mass1 * (l1**2 + w**2)\n",
    "I2 = mass2 * (pos2 - com)**2 + 1/12 * mass2 * (l2**2 + w**2)\n",
    "I3 = mass3 * (pos3 - com)**2 + 1/12 * mass3 * (l3**2 + w**2)\n",
    "\n",
    "ans = I1 + I2 + I3\n",
    "\n",
    "print(ans)"
   ]
  },
  {
   "cell_type": "code",
   "execution_count": 22,
   "id": "further-daniel",
   "metadata": {},
   "outputs": [
    {
     "name": "stdout",
     "output_type": "stream",
     "text": [
      "-21.75\n",
      "-2.25\n"
     ]
    }
   ],
   "source": [
    "#1022. Point position given center of mass\n",
    "\n",
    "from sympy import *\n",
    "\n",
    "m1 = 8\n",
    "m2 = 2\n",
    "m3 = 5\n",
    "r2 = Matrix([ 2, -1,  0])\n",
    "r3 = Matrix([ 4, -8,  0])\n",
    "rC = Matrix([-10,  -4,   0])\n",
    "\n",
    "mTotal = m1 + m2 + m3\n",
    "\n",
    "x = (rC[0] * mTotal - m2 * r2[0] - m3 * r3[0])/m1\n",
    "y = (rC[1] * mTotal - m2 * r2[1] - m3 * r3[1])/m1\n",
    "\n",
    "print(float(x))\n",
    "print(float(y))"
   ]
  },
  {
   "cell_type": "code",
   "execution_count": 34,
   "id": "welsh-advertising",
   "metadata": {},
   "outputs": [
    {
     "name": "stdout",
     "output_type": "stream",
     "text": [
      "311.995136\n"
     ]
    }
   ],
   "source": [
    "#829. Moment of intertia of a composite rigid body\n",
    "\n",
    "#Irod = 1/12 * m * l**2 + m * dist**2\n",
    "Irod = 1/12 * 4 * 4**2 + 4 * 4.472**2\n",
    "\n",
    "#IDisk = 1/2 * m * r**2 + m * dist**2\n",
    "IDisk = 1/2 * 4 * 2**2 + 4 * 2**2\n",
    "\n",
    "#IRect = 1/12 * m * (l**2 + l**2) + m * dist**2\n",
    "IRect = 1/12 * 4 * (2**2 + 4**2) + 4 * 7**2\n",
    "\n",
    "print(Irod + IDisk + IRect)"
   ]
  },
  {
   "cell_type": "code",
   "execution_count": 1,
   "id": "dutch-pledge",
   "metadata": {},
   "outputs": [
    {
     "name": "stdout",
     "output_type": "stream",
     "text": [
      "583.052380952381\n"
     ]
    }
   ],
   "source": [
    "#463. Moment of inertia about the center of an algebraic shape\n",
    "\n",
    "import numpy as np\n",
    "from sympy import *\n",
    "\n",
    "x, y = symbols('x, y')\n",
    "\n",
    "rho = 4\n",
    "y1 = 2*x**2 - 8*x + 4\n",
    "y2 = -2*x**2 - 4*x + 18\n",
    "x1 = 1\n",
    "x2 = 2\n",
    "\n",
    "mass = integrate(y2 - y1, (x, x1, x2)) * rho\n",
    "\n",
    "rC = integrate(integrate(rho * Matrix([x, y]), (y, y1, y2)), (x, x1, x2)) / mass\n",
    "IC = integrate(integrate(rho * ((x - rC[0])**2 + (y - rC[1])**2), (y, y1, y2)), (x, x1, x2))\n",
    "\n",
    "print(float(IC))"
   ]
  },
  {
   "cell_type": "code",
   "execution_count": 2,
   "id": "false-kansas",
   "metadata": {},
   "outputs": [],
   "source": [
    "#1144. Slider-crank kinetics - acceleration\n",
    "\n",
    "m1 = 2.000\n",
    "m2 = 3.000\n",
    "I1 = 2.000\n",
    "I2 = 16.000\n",
    "rOP = Matrix([-1, -1,  0])\n",
    "rPQ = Matrix([0, 8, 0])\n",
    "omega1 = Matrix([0.000, 0.000, 8.000])\n",
    "omega2 = Matrix([0, 0, 1])\n",
    "vP = Matrix([8.000, -8.000, 0.000])\n",
    "vQ = Matrix([0.000, -8.000, 0.000])\n",
    "alpha1 = Matrix([0.000, 0.000, -72.000])\n",
    "FQ = Matrix([-4.000, 0.000, 0.000])\n",
    "M = Matrix([0.000, 0.000, -548.000])\n",
    "\n",
    "aO = Matrix([0, 0, 0])\n",
    "aP = aO + alpha1.cross(rOP) + omega1.cross(omega1.cross(rOP))\n",
    "#WE NEED alpha2!! USE KINEMATICS FORMULAS\n",
    "#aQ = aP + alpha2.cross(rPQ) + omega2.cross(omega2.cross(rPQ))"
   ]
  },
  {
   "cell_type": "code",
   "execution_count": null,
   "id": "dense-petite",
   "metadata": {},
   "outputs": [],
   "source": [
    "#1144. Slider-crank kinetics - angular acceleration\n",
    "\n",
    "m1 = 2.000\n",
    "m2 = 6.000\n",
    "I1 = 2.000\n",
    "I2 = 32.500\n",
    "rOP = Matrix([-1,  1,  0])\n",
    "rPQ = Matrix([1, 8, 0])\n",
    "omega1 = Matrix([0.000, 0.000, -16.000])\n",
    "omega2 = Matrix([0, 0, 2])\n",
    "vP = Matrix([16.000, 16.000, 0.000])\n",
    "vQ = Matrix([0.000, 18.000, 0.000])\n",
    "aP = Matrix([-4.000, -516.000, 0.000])\n",
    "FQ = Matrix([197.750, 0.000, 0.000])\n",
    "M = Matrix([0.000, 0.000, 3924.750])\n",
    "\n",
    "#idk"
   ]
  },
  {
   "cell_type": "code",
   "execution_count": 4,
   "id": "molecular-classic",
   "metadata": {},
   "outputs": [
    {
     "ename": "NameError",
     "evalue": "name 'rCQ' is not defined",
     "output_type": "error",
     "traceback": [
      "\u001b[0;31m---------------------------------------------------------------------------\u001b[0m",
      "\u001b[0;31mNameError\u001b[0m                                 Traceback (most recent call last)",
      "\u001b[0;32m<ipython-input-4-f2f6c36584c7>\u001b[0m in \u001b[0;36m<module>\u001b[0;34m\u001b[0m\n\u001b[1;32m     27\u001b[0m \u001b[0;34m\u001b[0m\u001b[0m\n\u001b[1;32m     28\u001b[0m \u001b[0meq1\u001b[0m \u001b[0;34m=\u001b[0m \u001b[0mEq\u001b[0m\u001b[0;34m(\u001b[0m\u001b[0mFp\u001b[0m \u001b[0;34m+\u001b[0m \u001b[0mFq\u001b[0m\u001b[0;34m,\u001b[0m \u001b[0mm2\u001b[0m \u001b[0;34m*\u001b[0m \u001b[0maC\u001b[0m\u001b[0;34m)\u001b[0m\u001b[0;34m\u001b[0m\u001b[0;34m\u001b[0m\u001b[0m\n\u001b[0;32m---> 29\u001b[0;31m \u001b[0meq2\u001b[0m \u001b[0;34m=\u001b[0m \u001b[0mEq\u001b[0m\u001b[0;34m(\u001b[0m\u001b[0;34m-\u001b[0m\u001b[0mrPC\u001b[0m\u001b[0;34m.\u001b[0m\u001b[0mcross\u001b[0m\u001b[0;34m(\u001b[0m\u001b[0mFp\u001b[0m\u001b[0;34m)\u001b[0m \u001b[0;34m+\u001b[0m \u001b[0mrCQ\u001b[0m\u001b[0;34m.\u001b[0m\u001b[0mcross\u001b[0m\u001b[0;34m(\u001b[0m\u001b[0mFq\u001b[0m\u001b[0;34m)\u001b[0m\u001b[0;34m,\u001b[0m \u001b[0mI2\u001b[0m \u001b[0;34m*\u001b[0m \u001b[0malpha2\u001b[0m\u001b[0;34m)\u001b[0m\u001b[0;34m\u001b[0m\u001b[0;34m\u001b[0m\u001b[0m\n\u001b[0m\u001b[1;32m     30\u001b[0m \u001b[0meq3\u001b[0m \u001b[0;34m=\u001b[0m \u001b[0mEq\u001b[0m\u001b[0;34m(\u001b[0m\u001b[0mFqx\u001b[0m\u001b[0;34m,\u001b[0m \u001b[0;36m0\u001b[0m\u001b[0;34m)\u001b[0m\u001b[0;34m\u001b[0m\u001b[0;34m\u001b[0m\u001b[0m\n\u001b[1;32m     31\u001b[0m \u001b[0;34m\u001b[0m\u001b[0m\n",
      "\u001b[0;31mNameError\u001b[0m: name 'rCQ' is not defined"
     ]
    }
   ],
   "source": [
    "#1144. Slider-crank kinetics - force\n",
    "\n",
    "m1 = 4.000\n",
    "m2 = 3.000\n",
    "I1 = 4.000\n",
    "I2 = 17.000\n",
    "rOP = Matrix([-1,  1,  0])\n",
    "rPQ = Matrix([-8, -2,  0])\n",
    "omega1 = Matrix([0.000, 0.000, 8.000])\n",
    "omega2 = Matrix([ 0,  0, -1])\n",
    "vP = Matrix([-8.000, -8.000, 0.000])\n",
    "vQ = Matrix([-10.000, 0.000, 0.000])\n",
    "alpha1 = Matrix([0.000, 0.000, -78.000])\n",
    "alpha2 = Matrix([0.000, 0.000, 2.000])\n",
    "M = Matrix([0.000, 0.000, -826.250])\n",
    "\n",
    "Fpx, Fpy, Fqx, Fqy = symbols('Fpx, Fpy, Fqx, Fqy')\n",
    "\n",
    "Fp = Matrix([Fpx, Fpy, 0])\n",
    "Fq = Matrix([Fqx, Fqy, 0])\n",
    "\n",
    "rPC = rPQ/2\n",
    "\n",
    "aO = Matrix([0, 0, 0])\n",
    "aP = aO + alpha1.cross(rOP) + omega1.cross(omega1.cross(rOP))\n",
    "aC = aP + alpha2.cross(rPC) + omega2.cross(omega2.cross(rPC))\n",
    "\n",
    "eq1 = Eq(Fp + Fq, m2 * aC)\n",
    "eq2 = Eq(-rPC.cross(Fp) + rCQ.cross(Fq), I2 * alpha2)\n",
    "eq3 = Eq(Fqx, 0)\n",
    "\n",
    "solve((eq1, eq2, eq3), (Fpx, Fpy, Fqx, Fqy))"
   ]
  },
  {
   "cell_type": "code",
   "execution_count": null,
   "id": "horizontal-diary",
   "metadata": {},
   "outputs": [],
   "source": []
  }
 ],
 "metadata": {
  "kernelspec": {
   "display_name": "Python 3",
   "language": "python",
   "name": "python3"
  },
  "language_info": {
   "codemirror_mode": {
    "name": "ipython",
    "version": 3
   },
   "file_extension": ".py",
   "mimetype": "text/x-python",
   "name": "python",
   "nbconvert_exporter": "python",
   "pygments_lexer": "ipython3",
   "version": "3.8.6"
  }
 },
 "nbformat": 4,
 "nbformat_minor": 5
}
