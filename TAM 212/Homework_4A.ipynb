{
 "cells": [
  {
   "cell_type": "code",
   "execution_count": 6,
   "id": "interesting-simple",
   "metadata": {},
   "outputs": [
    {
     "name": "stdout",
     "output_type": "stream",
     "text": [
      "Matrix([[-2], [8], [0]])\n"
     ]
    }
   ],
   "source": [
    "#826. Acceleration of a second point on a rigid body\n",
    "\n",
    "from sympy import *\n",
    "import numpy as np\n",
    "\n",
    "omega = Matrix([0, 0, 0])\n",
    "alpha = Matrix([ 0,  0, -2])\n",
    "rPQ = Matrix([-3, -2,  0])\n",
    "aP = Matrix([2, 2, 0])\n",
    "\n",
    "aQ = aP + alpha.cross(rPQ) + omega.cross(omega.cross(rPQ))\n",
    "\n",
    "print(aQ)"
   ]
  },
  {
   "cell_type": "code",
   "execution_count": 17,
   "id": "elementary-entrepreneur",
   "metadata": {},
   "outputs": [
    {
     "name": "stdout",
     "output_type": "stream",
     "text": [
      "Matrix([[7], [-2], [0]])\n"
     ]
    }
   ],
   "source": [
    "#784. Velocity of a second point on a rigid body\n",
    "\n",
    "rPQ = Matrix([2, 2, 0])\n",
    "vP = Matrix([3, 2, 0])\n",
    "omega = Matrix([ 0,  0, -2])\n",
    "\n",
    "vQ = vP + omega.cross(rPQ)\n",
    "\n",
    "print(vQ)"
   ]
  },
  {
   "cell_type": "code",
   "execution_count": 22,
   "id": "worldwide-maldives",
   "metadata": {},
   "outputs": [
    {
     "name": "stdout",
     "output_type": "stream",
     "text": [
      "Matrix([[-3], [3], [0]])\n",
      "Matrix([[-3], [3], [0]])\n"
     ]
    }
   ],
   "source": [
    "#491. Angular velocity of a rigid body\n",
    "\n",
    "rPQ = Matrix([1, 1, 0])\n",
    "vP = Matrix([-1, -6,  0])\n",
    "vQ = Matrix([-4, -3,  0])\n",
    "\n",
    "omega = Matrix([0, 0, 3])\n",
    "\n",
    "print(vQ-vP)\n",
    "print(omega.cross(rPQ))"
   ]
  },
  {
   "cell_type": "code",
   "execution_count": 29,
   "id": "comparable-migration",
   "metadata": {},
   "outputs": [
    {
     "name": "stdout",
     "output_type": "stream",
     "text": [
      "[{vQu: sqrt(2), omegaz: 1/3}]\n",
      "Matrix([[1], [-1], [0]])\n",
      "Matrix([[0], [0], [1/3]])\n"
     ]
    }
   ],
   "source": [
    "#717. Constrained pin velocity of a rigid body\n",
    "\n",
    "rPQ = Matrix([0, -3, 0])\n",
    "vP = Matrix([ 2, -1,  0])\n",
    "\n",
    "uhat = Matrix([1/sqrt(2), -1/sqrt(2), 0])\n",
    "\n",
    "vQu, omegaz = symbols('vQu, omegaz')\n",
    "\n",
    "vQ = vQu * uhat\n",
    "omega = Matrix([0, 0, omegaz])\n",
    "\n",
    "eq1 = Eq(vP, vQ + omega.cross(rPQ))\n",
    "\n",
    "soln = solve(eq1, (vQu, omegaz), dict=True)\n",
    "\n",
    "print(soln)\n",
    "\n",
    "print(vQ.subs(soln[0]))\n",
    "\n",
    "print(omega.subs(soln[0]))"
   ]
  },
  {
   "cell_type": "code",
   "execution_count": null,
   "id": "worth-miniature",
   "metadata": {},
   "outputs": [],
   "source": []
  }
 ],
 "metadata": {
  "kernelspec": {
   "display_name": "Python 3",
   "language": "python",
   "name": "python3"
  },
  "language_info": {
   "codemirror_mode": {
    "name": "ipython",
    "version": 3
   },
   "file_extension": ".py",
   "mimetype": "text/x-python",
   "name": "python",
   "nbconvert_exporter": "python",
   "pygments_lexer": "ipython3",
   "version": "3.8.6"
  }
 },
 "nbformat": 4,
 "nbformat_minor": 5
}
